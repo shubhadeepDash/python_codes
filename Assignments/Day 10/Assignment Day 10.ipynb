{
 "cells": [
  {
   "cell_type": "code",
   "execution_count": 12,
   "id": "3f8656b4",
   "metadata": {},
   "outputs": [
    {
     "name": "stdout",
     "output_type": "stream",
     "text": [
      "Enter the number of elements in the array: 5\n",
      "Enter the elements of the array(in a sorted manner):\n",
      "4\n",
      "6\n",
      "10\n",
      "18\n",
      "24\n",
      "The resultant array is:  [4, 6, 10, 18, 24]\n",
      "Enter the element to be searched: 30\n",
      "The element is not present in the array\n"
     ]
    }
   ],
   "source": [
    "# program to implement binary search using recursion\n",
    "# binary search is only applicable for a sorted array\n",
    "\n",
    "def BinarySearch(arr,low,high,x):\n",
    "    if high >= low:\n",
    "        mid = (high + low) // 2\n",
    "        if(arr[mid] == x):\n",
    "            return mid\n",
    "        elif(arr[mid] > x):\n",
    "            return BinarySearch(arr,low,mid-1,x)\n",
    "        else:\n",
    "            return BinarySearch(arr,mid+1,high,x)\n",
    "    else:\n",
    "        return -1\n",
    "    \n",
    "arr = [ ]\n",
    "n = int(input(\"Enter the number of elements in the array: \"))\n",
    "print(\"Enter the elements of the array(in a sorted manner):\")\n",
    "for i in range(n):\n",
    "    e = int(input())\n",
    "    arr.append(e)\n",
    "print(\"The resultant array is: \",arr)\n",
    "\n",
    "x = int(input(\"Enter the element to be searched: \"))\n",
    "\n",
    "result = BinarySearch(arr,0,len(arr)-1,x)\n",
    "\n",
    "if result != -1:\n",
    "    print(\"The element is present at index:\",str(result))\n",
    "else:\n",
    "    print(\"The element is not present in the array\")"
   ]
  },
  {
   "cell_type": "code",
   "execution_count": 10,
   "id": "b9e3ee26",
   "metadata": {},
   "outputs": [
    {
     "name": "stdout",
     "output_type": "stream",
     "text": [
      "<built-in method sort of list object at 0x0000019F90A91180>\n",
      "<built-in method reverse of list object at 0x0000019F90A91180>\n",
      "[(6.0, 10), (5.0, 20), (4.0, 30)]\n",
      "The maximum value that can be carried by the bag is 240.0\n"
     ]
    }
   ],
   "source": [
    "# progrm to calculate the maximum value that can be carried in the bag\n",
    "items = [(60,10),(100,20),(120,30)]\n",
    "capacity = 50\n",
    "values = [(a/b,b) for a,b in items]\n",
    "values.sort()\n",
    "values.reverse()\n",
    "print(values.sort)\n",
    "print(values.reverse)\n",
    "print(values)\n",
    "total = 0\n",
    "for item in values:\n",
    "    if item[1] <= capacity:\n",
    "        total = total + item[0] * item[1]\n",
    "        capacity = capacity - item[1]\n",
    "    else:\n",
    "        total = total + item[0] * capacity\n",
    "        break\n",
    "        \n",
    "print(\"The maximum value that can be carried by the bag is\",total)"
   ]
  },
  {
   "cell_type": "code",
   "execution_count": 1,
   "id": "7bca7319",
   "metadata": {},
   "outputs": [
    {
     "name": "stdout",
     "output_type": "stream",
     "text": [
      "Enter a number: 20\n",
      "The required sequence is as follows: \n",
      "1 2 3 4 5 6 8 9 10 12 15 16 18 20 "
     ]
    }
   ],
   "source": [
    "# program to print the sequence of the numbers satisfying the following pattern:\n",
    "# 2^i * 3^j * 5^k\n",
    "\n",
    "def hamming(x):\n",
    "    if  x == 1:\n",
    "        return 1\n",
    "    elif x % 2 == 0:\n",
    "        return hamming(x/2)\n",
    "    elif x % 3 == 0:\n",
    "        return hamming(x/3)\n",
    "    elif x % 5 == 0:\n",
    "        return hamming(x/5)\n",
    "    return 0\n",
    "\n",
    "n = int(input(\"Enter a number: \"))\n",
    "print(\"The required sequence is as follows: \")\n",
    "for i in range(1,n+1):\n",
    "    if hamming(i) == 1:\n",
    "        print(i,end=' ')"
   ]
  }
 ],
 "metadata": {
  "kernelspec": {
   "display_name": "Python 3",
   "language": "python",
   "name": "python3"
  },
  "language_info": {
   "codemirror_mode": {
    "name": "ipython",
    "version": 3
   },
   "file_extension": ".py",
   "mimetype": "text/x-python",
   "name": "python",
   "nbconvert_exporter": "python",
   "pygments_lexer": "ipython3",
   "version": "3.8.8"
  }
 },
 "nbformat": 4,
 "nbformat_minor": 5
}
