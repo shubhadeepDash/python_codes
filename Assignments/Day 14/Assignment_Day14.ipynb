{
 "cells": [
  {
   "cell_type": "code",
   "execution_count": 3,
   "id": "50c11c0b",
   "metadata": {},
   "outputs": [
    {
     "name": "stdout",
     "output_type": "stream",
     "text": [
      "ZeroDivisionError occurred and handled.\n"
     ]
    }
   ],
   "source": [
    "#program to name and handle the exception occurred in the given code\n",
    "\n",
    "try:\n",
    "    a = 3\n",
    "    if a < 4:\n",
    "        a = a/(a-3)\n",
    "        print(a)\n",
    "        \n",
    "except ZeroDivisionError:\n",
    "    print(\"ZeroDivisionError occurred and handled.\")"
   ]
  },
  {
   "cell_type": "code",
   "execution_count": 9,
   "id": "617f17cc",
   "metadata": {},
   "outputs": [
    {
     "name": "stdout",
     "output_type": "stream",
     "text": [
      "IndexError occurred and handled.\n"
     ]
    }
   ],
   "source": [
    "# program to name and handle the exception occurred in the given code\n",
    "\n",
    "try:\n",
    "    l = [1,2,3]\n",
    "    print(l[3])\n",
    "except IndexError:\n",
    "    print(\"IndexError occurred and handled.\")"
   ]
  },
  {
   "cell_type": "code",
   "execution_count": 11,
   "id": "897e8ed9",
   "metadata": {},
   "outputs": [
    {
     "name": "stdout",
     "output_type": "stream",
     "text": [
      "-5.0\n",
      "ZeroDivisionError occurred and handled.\n",
      "TypeError occurred and handled.\n"
     ]
    }
   ],
   "source": [
    "# program to handle all the types of exceptions in a given function\n",
    "\n",
    "def handle(a,b):\n",
    "    try:\n",
    "        c = ((a+b) / (a-b))\n",
    "    except ZeroDivisionError:\n",
    "        print(\"ZeroDivisionError occurred and handled.\")\n",
    "    except TypeError:\n",
    "        print(\"TypeError occurred and handled.\")\n",
    "    except:\n",
    "        print(\"An error occurred and handled.\")\n",
    "    else:\n",
    "        print(c)\n",
    "        \n",
    "handle(2.0,3.0)\n",
    "handle(3.0,3.0)\n",
    "handle(3.0,'s')"
   ]
  },
  {
   "cell_type": "code",
   "execution_count": 13,
   "id": "19f23929",
   "metadata": {},
   "outputs": [
    {
     "name": "stdout",
     "output_type": "stream",
     "text": [
      "ImportError occurred and handled.\n"
     ]
    }
   ],
   "source": [
    "# program to handle import error and value error\n",
    "\n",
    "try:\n",
    "    import maths\n",
    "    x = int(input(\"Enter an integer: \"))\n",
    "except ImportError:\n",
    "    print(\"ImportError occurred and handled.\")\n",
    "except ValueError:\n",
    "    print(\"ValueError occurred and handled.\")\n",
    "else:\n",
    "    print(x)"
   ]
  },
  {
   "cell_type": "code",
   "execution_count": 16,
   "id": "65848d96",
   "metadata": {},
   "outputs": [
    {
     "name": "stdout",
     "output_type": "stream",
     "text": [
      "Enter the number to calculate the factorial: 0\n",
      "Factorial of the 0 is 1\n"
     ]
    }
   ],
   "source": [
    "# program to find the factorial of a number\n",
    "\n",
    "x = int(input(\"Enter the number to calculate the factorial: \"))\n",
    "fact = 1\n",
    "for i in range(1,x+1):\n",
    "    fact = fact * i\n",
    "\n",
    "print(f\"Factorial of the {x} is {fact}\")"
   ]
  }
 ],
 "metadata": {
  "kernelspec": {
   "display_name": "Python 3",
   "language": "python",
   "name": "python3"
  },
  "language_info": {
   "codemirror_mode": {
    "name": "ipython",
    "version": 3
   },
   "file_extension": ".py",
   "mimetype": "text/x-python",
   "name": "python",
   "nbconvert_exporter": "python",
   "pygments_lexer": "ipython3",
   "version": "3.8.8"
  }
 },
 "nbformat": 4,
 "nbformat_minor": 5
}
