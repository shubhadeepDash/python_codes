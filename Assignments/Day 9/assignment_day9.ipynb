{
 "cells": [
  {
   "cell_type": "code",
   "execution_count": 2,
   "id": "bffe4de7",
   "metadata": {},
   "outputs": [
    {
     "name": "stdout",
     "output_type": "stream",
     "text": [
      "Enter the number of elements: 5\n",
      "Enter the elements: \n",
      "5\n",
      "4\n",
      "3\n",
      "2\n",
      "1\n",
      "The result after adding is:\n",
      "15\n"
     ]
    }
   ],
   "source": [
    "#program to create an add function that is agnostic to the number of inputs\n",
    "\n",
    "def add_us():\n",
    "    summ = 0\n",
    "    for i in range(len(l)+1):\n",
    "        summ += i\n",
    "    print(summ)\n",
    "    \n",
    "l = [ ]\n",
    "n = int(input(\"Enter the number of elements: \"))\n",
    "print(\"Enter the elements: \")\n",
    "for i in range(n):\n",
    "    e = int(input())\n",
    "    l.append(e)\n",
    "\n",
    "print(\"The result after adding is:\")\n",
    "add_us()"
   ]
  },
  {
   "cell_type": "code",
   "execution_count": 15,
   "id": "2e40d6d1",
   "metadata": {},
   "outputs": [
    {
     "name": "stdout",
     "output_type": "stream",
     "text": [
      "15\n"
     ]
    }
   ],
   "source": [
    "#program to create an add functoin tbat is agnostic to the number of inputs\n",
    "\n",
    "def add_us(*args):\n",
    "    s = 0\n",
    "    for i in range(len(args)):\n",
    "        s += args[i]\n",
    "    return s\n",
    "print(add_us(1,2,3,4,5))"
   ]
  },
  {
   "cell_type": "code",
   "execution_count": 29,
   "id": "98ff640c",
   "metadata": {},
   "outputs": [
    {
     "name": "stdout",
     "output_type": "stream",
     "text": [
      "[['a', 'b', 'c', 'd'], ['e', 'f', 'g', 'h'], ['i', 'j', 'k', 'l']]\n",
      "Enter the character you wanna search from the list : d\n",
      "The position of the character is (1, 4)\n"
     ]
    }
   ],
   "source": [
    "# program to print the row index and column index of an element\n",
    "\n",
    "table = [list(\"abcd\"),list(\"efgh\"),list(\"ijkl\")]\n",
    "print(table)\n",
    "def matrix(table):\n",
    "    ch = input(\"Enter the character you wanna search from the list : \")\n",
    "    for i in range (len(table)):\n",
    "        for j in range (len(table[i])):\n",
    "            if(ch == table[i][j]):\n",
    "                return(i+1,j+1)\n",
    "    else:\n",
    "        return(\"Not found!!!\")\n",
    "\n",
    "print(f\"The position of the character is {matrix(table)}\")          "
   ]
  },
  {
   "cell_type": "code",
   "execution_count": 33,
   "id": "2edc4b5d",
   "metadata": {},
   "outputs": [
    {
     "name": "stdout",
     "output_type": "stream",
     "text": [
      "[['a', 'b', 'c', 'd'], ['e', 'f', 'g', 'h'], ['i', 'e', 'j', 'k', 'l']]\n",
      "Enter the character you wanna search from the list : e\n",
      "2 1\n",
      "3 2\n"
     ]
    }
   ],
   "source": [
    "# program to print the row index and column index of an element\n",
    "\n",
    "table = [list(\"abcd\"),list(\"efgh\"),list(\"iejkl\")]\n",
    "print(table)\n",
    "ch = input(\"Enter the character you wanna search from the list : \")\n",
    "flag = 0\n",
    "    \n",
    "for i in range (len(table)):\n",
    "    for j in range (len(table[i])):\n",
    "        if(ch == table[i][j]):\n",
    "            flag = 0\n",
    "            print(i+1,j+1)\n",
    "            flag = 1\n",
    "if flag == 0:\n",
    "    print(\"Not found!!!\")        "
   ]
  },
  {
   "cell_type": "code",
   "execution_count": 9,
   "id": "3e550743",
   "metadata": {},
   "outputs": [
    {
     "name": "stdout",
     "output_type": "stream",
     "text": [
      "Enter the number of term: 6\n",
      "The value in of term 6 in series is 5\n"
     ]
    }
   ],
   "source": [
    "# program to demonstrate fibonacci sequence using recursion\n",
    "# 0 1 1 2 3 5 8 13 ....\n",
    "def fibonacci(i):\n",
    "    if i == 1:\n",
    "        return 0\n",
    "    elif i == 2:\n",
    "        return 1\n",
    "    else:\n",
    "        return fibonacci(i-2) + fibonacci(i-1)\n",
    "    \n",
    "i = int(input(\"Enter the number of term: \"))\n",
    "print(f\"The value in of term {i} in series is {fibonacci(i)}\")"
   ]
  },
  {
   "cell_type": "code",
   "execution_count": 17,
   "id": "adb9ea61",
   "metadata": {},
   "outputs": [
    {
     "name": "stdout",
     "output_type": "stream",
     "text": [
      "Enter the number of terms: 6\n",
      "The required fibonacci series for 6 terms is: \n",
      "0 1 1 2 3 5 "
     ]
    }
   ],
   "source": [
    "# program to demonstrate fibonacci sequence using recursion\n",
    "# 0 1 1 2 3 5 8 13 ....\n",
    "def fibonacci(n):\n",
    "    if n<=1:\n",
    "        return n\n",
    "    else:\n",
    "        return(fibonacci(n-1) + fibonacci(n-2))\n",
    "n = int(input(\"Enter the number of terms: \"))\n",
    "print(f\"The required fibonacci series for {n} terms is: \")\n",
    "for i in range(n):\n",
    "    print(fibonacci(i),end=' ')"
   ]
  },
  {
   "cell_type": "code",
   "execution_count": 5,
   "id": "a3cda9e9",
   "metadata": {},
   "outputs": [
    {
     "name": "stdout",
     "output_type": "stream",
     "text": [
      "Enter the string: Python is fun\n",
      "The resultant dictionary is:  {'Python': 6, 'is': 2, 'fun': 3}\n"
     ]
    }
   ],
   "source": [
    "# program to print the words as key and the number of letters in the word as value of a \n",
    "# dictionary from a string using dictionary comprehension\n",
    "\n",
    "lst = input(\"Enter the string: \").split()\n",
    "\n",
    "dictionary = {i:len(i) for i in lst}\n",
    "print('The resultant dictionary is: ',dictionary)"
   ]
  }
 ],
 "metadata": {
  "kernelspec": {
   "display_name": "Python 3",
   "language": "python",
   "name": "python3"
  },
  "language_info": {
   "codemirror_mode": {
    "name": "ipython",
    "version": 3
   },
   "file_extension": ".py",
   "mimetype": "text/x-python",
   "name": "python",
   "nbconvert_exporter": "python",
   "pygments_lexer": "ipython3",
   "version": "3.8.8"
  }
 },
 "nbformat": 4,
 "nbformat_minor": 5
}
