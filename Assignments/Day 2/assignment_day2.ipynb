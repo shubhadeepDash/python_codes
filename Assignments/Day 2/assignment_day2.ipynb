{
 "cells": [
  {
   "cell_type": "markdown",
   "id": "42f475ab",
   "metadata": {},
   "source": [
    "# Sum of digits of a number"
   ]
  },
  {
   "cell_type": "code",
   "execution_count": 13,
   "id": "19275992",
   "metadata": {},
   "outputs": [
    {
     "name": "stdout",
     "output_type": "stream",
     "text": [
      "Enter the number to find the sum: 632\n",
      "The sum of the digits of 632 is 11\n"
     ]
    }
   ],
   "source": [
    "#program to find the sum of digits of a number\n",
    "\n",
    "num1 = int(input(\"Enter the number to find the sum: \"))\n",
    "rem = 0\n",
    "sum = 0\n",
    "num = num1\n",
    "while(num > 0):\n",
    "    rem = num % 10\n",
    "    sum = sum + rem\n",
    "    num = num // 10\n",
    "print(\"The sum of the digits of {} is {}\".format(num1,sum))"
   ]
  },
  {
   "cell_type": "markdown",
   "id": "32ef5e62",
   "metadata": {},
   "source": [
    "# Popping from the list"
   ]
  },
  {
   "cell_type": "code",
   "execution_count": 14,
   "id": "030ae8b6",
   "metadata": {},
   "outputs": [
    {
     "name": "stdout",
     "output_type": "stream",
     "text": [
      "Enter the number of elements in the list: 5\n",
      "Enter the element:1\n",
      "Enter the element:2\n",
      "Enter the element:shubh\n",
      "Enter the element:3\n",
      "Enter the element:deep \n",
      "The last element is deep  and the second last element is 3\n",
      "The resulting list is:\n",
      "['1', '2', 'shubh']\n"
     ]
    }
   ],
   "source": [
    "#program to take a list and pop the last two elements of the list\n",
    "\n",
    "lst = [ ]\n",
    "\n",
    "n = int(input(\"Enter the number of elements in the list: \"))\n",
    "\n",
    "for i in range(n):\n",
    "    e = (input(\"Enter the element:\" ))\n",
    "    lst.append(e)\n",
    "\n",
    "last = lst.pop()\n",
    "scnd_last = lst.pop()\n",
    "\n",
    "print(\"The last element is {} and the second last element is {}\".format(last,scnd_last))\n",
    "print(\"The resulting list is:\")\n",
    "print(lst)"
   ]
  },
  {
   "cell_type": "markdown",
   "id": "afa13504",
   "metadata": {},
   "source": [
    "# Capitalize the first letter "
   ]
  },
  {
   "cell_type": "code",
   "execution_count": 4,
   "id": "1b1c08bd",
   "metadata": {},
   "outputs": [
    {
     "name": "stdout",
     "output_type": "stream",
     "text": [
      "Enter the string: python\n",
      "The string with first letter capital is: Python\n"
     ]
    }
   ],
   "source": [
    "#program to capitalize the first letter of a string\n",
    "string = input(\"Enter the string: \")\n",
    "print(\"The string with first letter capital is:\",string.capitalize())"
   ]
  },
  {
   "cell_type": "markdown",
   "id": "7a8b2308",
   "metadata": {},
   "source": [
    "# Sum of n natural numbers"
   ]
  },
  {
   "cell_type": "code",
   "execution_count": 9,
   "id": "6a5d49a1",
   "metadata": {},
   "outputs": [
    {
     "name": "stdout",
     "output_type": "stream",
     "text": [
      "Enter a positive integral number: 100\n",
      "The sum of first 100 natural numbers is 5050\n"
     ]
    }
   ],
   "source": [
    "#program to take an integral input n and to find sum of first n natural numbers\n",
    "\n",
    "n = int(input(\"Enter a positive integral number: \"))\n",
    "\n",
    "if(n < 0):\n",
    "    print(\"Enter a positive integer\")\n",
    "else :\n",
    "    result = (n*(n+1))//2\n",
    "    print(\"The sum of first {} natural numbers is {}\".format(n,result))\n"
   ]
  }
 ],
 "metadata": {
  "kernelspec": {
   "display_name": "Python 3",
   "language": "python",
   "name": "python3"
  },
  "language_info": {
   "codemirror_mode": {
    "name": "ipython",
    "version": 3
   },
   "file_extension": ".py",
   "mimetype": "text/x-python",
   "name": "python",
   "nbconvert_exporter": "python",
   "pygments_lexer": "ipython3",
   "version": "3.8.8"
  }
 },
 "nbformat": 4,
 "nbformat_minor": 5
}
