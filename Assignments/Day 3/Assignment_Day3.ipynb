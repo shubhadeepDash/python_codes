{
 "cells": [
  {
   "cell_type": "markdown",
   "id": "fd13b9be",
   "metadata": {},
   "source": [
    "# Number of alphabets in a string"
   ]
  },
  {
   "cell_type": "code",
   "execution_count": 1,
   "id": "61b95b96",
   "metadata": {},
   "outputs": [
    {
     "name": "stdout",
     "output_type": "stream",
     "text": [
      "Enter the string: py65thon\n",
      "The total number of alpabets in the string py65thon is 6\n"
     ]
    }
   ],
   "source": [
    "#program to find the number of alphabets in a string\n",
    "\n",
    "string = input(\"Enter the string: \")\n",
    "count = 0\n",
    "for i in string:\n",
    "    if (i.isalpha()):\n",
    "        count = count + 1\n",
    "    else :\n",
    "        continue \n",
    "print(\"The total number of alpabets in the string {} is {}\".format(string,count))"
   ]
  },
  {
   "cell_type": "markdown",
   "id": "5a9509c5",
   "metadata": {},
   "source": [
    "# Two strings program"
   ]
  },
  {
   "cell_type": "code",
   "execution_count": 2,
   "id": "0fefe513",
   "metadata": {},
   "outputs": [
    {
     "name": "stdout",
     "output_type": "stream",
     "text": [
      "Enter the first string: shubh\n",
      "Enter the second string: dash\n",
      "The string with maximum length is shubh\n"
     ]
    }
   ],
   "source": [
    "#program to take two strings and print the one with maximum length \n",
    "#if the size is same print both the strings\n",
    "\n",
    "string1 = input(\"Enter the first string: \")\n",
    "string2 = input(\"Enter the second string: \")\n",
    "count1 = 0 \n",
    "for i in string1:\n",
    "    count1 = count1 + 1\n",
    "count2 = 0\n",
    "for i in string2: \n",
    "    count2 = count2 + 1\n",
    "if(count1 > count2):\n",
    "    print(\"The string with maximum length is {}\".format(string1))\n",
    "elif(count2 > count1):\n",
    "    print(\"The string with maximum length is {}\".format(string2))\n",
    "else:\n",
    "    print(string1)\n",
    "    print(string2)"
   ]
  },
  {
   "cell_type": "code",
   "execution_count": 4,
   "id": "39e2cc56",
   "metadata": {},
   "outputs": [
    {
     "name": "stdout",
     "output_type": "stream",
     "text": [
      "Enter the first string: shubh\n",
      "Enter the second string: deeep\n",
      "shubh\n",
      "deeep\n"
     ]
    }
   ],
   "source": [
    "#program to take two strings and print the one with maximum length \n",
    "#if the size is same print both the strings\n",
    "\n",
    "string1 = input(\"Enter the first string: \")\n",
    "string2 = input(\"Enter the second string: \")\n",
    "\n",
    "len1 = len(string1)\n",
    "len2 = len(string2)\n",
    "\n",
    "if(len1 > len2):\n",
    "    print(\"The string with maximum length is {}\".format(string1))\n",
    "elif(len2 > len1):\n",
    "    print(\"The string with maximum length is {}\".format(string2))\n",
    "else:\n",
    "    print(string1)\n",
    "    print(string2)"
   ]
  },
  {
   "cell_type": "markdown",
   "id": "0df82668",
   "metadata": {},
   "source": [
    "# Find Leap year"
   ]
  },
  {
   "cell_type": "code",
   "execution_count": 5,
   "id": "800f9f8c",
   "metadata": {},
   "outputs": [
    {
     "name": "stdout",
     "output_type": "stream",
     "text": [
      "Enter the year: 2008\n",
      "2008 is a leap year\n"
     ]
    }
   ],
   "source": [
    "# program to find a leap year\n",
    "\n",
    "year = int(input(\"Enter the year: \"))\n",
    "if((year % 400 == 0) or ((year % 4 == 0) and (year % 100 != 0))):\n",
    "    print(\"{} is a leap year\".format(year))\n",
    "else:\n",
    "    print(\"{} is not a leap year\".format(year))"
   ]
  },
  {
   "cell_type": "markdown",
   "id": "adb76901",
   "metadata": {},
   "source": [
    "# Letters and digits in a sentence"
   ]
  },
  {
   "cell_type": "code",
   "execution_count": 15,
   "id": "a1156913",
   "metadata": {},
   "outputs": [
    {
     "name": "stdout",
     "output_type": "stream",
     "text": [
      "Enter the sentence: HELLO WORLD! 123!\n",
      "LETTERS  10\n",
      "DIGITS  3\n"
     ]
    }
   ],
   "source": [
    "#program to calculate the letters and digits of a sentence\n",
    "import string\n",
    "snt = input(\"Enter the sentence: \")\n",
    "count_L = 0\n",
    "count_D = 0\n",
    "for i in snt:\n",
    "    if(i.isalpha()):\n",
    "        count_L = count_L + 1\n",
    "    elif(i.isdigit()):\n",
    "        count_D = count_D + 1\n",
    "print(\"LETTERS \",count_L)\n",
    "print(\"DIGITS \",count_D)"
   ]
  },
  {
   "cell_type": "code",
   "execution_count": 1,
   "id": "ee0381cf",
   "metadata": {},
   "outputs": [
    {
     "name": "stdout",
     "output_type": "stream",
     "text": [
      "Enter the sentence: hello world! 113!\n",
      "LETTERS  10\n",
      "DIGITS  3\n",
      "SPACES  2\n",
      "SPECIAL CHARACTERS  2\n"
     ]
    }
   ],
   "source": [
    "#program to calculate the letters and digits of a sentence\n",
    "import string\n",
    "snt = input(\"Enter the sentence: \")\n",
    "count_L = 0 # counts the letter\n",
    "count_D = 0 # counts the digit\n",
    "count_S = 0 # counts the Space\n",
    "count_O = 0 # counts special characters\n",
    "for i in snt:\n",
    "    if(i.isalpha()):\n",
    "        count_L = count_L + 1\n",
    "    elif(i.isdigit()):\n",
    "        count_D = count_D + 1\n",
    "    elif(i == ' '):\n",
    "        count_S = count_S + 1\n",
    "    else:\n",
    "        count_O = count_O + 1\n",
    "    \n",
    "print(\"LETTERS \",count_L)\n",
    "print(\"DIGITS \",count_D)\n",
    "print(\"SPACES \",count_S)\n",
    "print(\"SPECIAL CHARACTERS \",(count_O))\n"
   ]
  }
 ],
 "metadata": {
  "kernelspec": {
   "display_name": "Python 3",
   "language": "python",
   "name": "python3"
  },
  "language_info": {
   "codemirror_mode": {
    "name": "ipython",
    "version": 3
   },
   "file_extension": ".py",
   "mimetype": "text/x-python",
   "name": "python",
   "nbconvert_exporter": "python",
   "pygments_lexer": "ipython3",
   "version": "3.8.8"
  }
 },
 "nbformat": 4,
 "nbformat_minor": 5
}
