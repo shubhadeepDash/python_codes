{
 "cells": [
  {
   "cell_type": "code",
   "execution_count": 18,
   "id": "8cf1bad3",
   "metadata": {},
   "outputs": [],
   "source": [
    "# program to create a text file to store the information of new employees\n",
    "\n",
    "file = open(\"add_employee.txt\",\"x\")\n",
    "file.close()"
   ]
  },
  {
   "cell_type": "code",
   "execution_count": 60,
   "id": "7f358340",
   "metadata": {},
   "outputs": [],
   "source": [
    "#program to add a title to our file\n",
    "\n",
    "file = open(\"add_employee.txt\",\"w\")\n",
    "file.write(\"This file contains the information of new employees\\n\")\n",
    "file.close()"
   ]
  },
  {
   "cell_type": "code",
   "execution_count": 1,
   "id": "d2a7cd03",
   "metadata": {},
   "outputs": [
    {
     "name": "stdout",
     "output_type": "stream",
     "text": [
      "Enter the ID of employee:20ASED96\n",
      "Enter the name of the employee:HARI\n",
      "Enter the Date of Joining of the employee:22/03/2021\n",
      "Enter the designation of the employee:SOFTWARE ENGINEER\n",
      "Enter 1 to add more employee info:1\n",
      "Enter the ID of employee:20KIJU86\n",
      "Enter the name of the employee:YASH\n",
      "Enter the Date of Joining of the employee:23/03/2021\n",
      "Enter the designation of the employee:WEB DEVELOPER\n",
      "Enter 1 to add more employee info:0\n"
     ]
    }
   ],
   "source": [
    "# program to make a function which adds the employee information\n",
    "def add_employee():\n",
    "    file = open(\"add_employee.txt\",\"a\")\n",
    "    emp_id = input(\"Enter the ID of employee:\")\n",
    "    emp_name = input(\"Enter the name of the employee:\")\n",
    "    emp_DOJ = input(\"Enter the Date of Joining of the employee:\")\n",
    "    emp_desig = input(\"Enter the designation of the employee:\")\n",
    "    emp_sal = \"0\" # salary was to be taken zero by default\n",
    "    L = [\"Employee_ID:\",emp_id,\"\\t\\tEmployee_Name:\",emp_name,\"\\t\\tEmployee_DOJ:\",emp_DOJ,\"\\t\\tEmployee_Designation:\",emp_desig,\"\\t\\tEmployee_Salary:\",emp_sal,\"\\n\"]\n",
    "    file.writelines(L)\n",
    "    choice = int(input(\"Enter 1 to add more employee info:\"))\n",
    "    if choice == 1:\n",
    "        add_employee()\n",
    "    else:\n",
    "        file.close()\n",
    "\n",
    "add_employee()"
   ]
  },
  {
   "cell_type": "code",
   "execution_count": null,
   "id": "0947ed04",
   "metadata": {},
   "outputs": [],
   "source": [
    "# program to create a text file to store the information of new HR\n",
    "f = open(\"add_newhr.txt\",\"x\")\n",
    "f.close()"
   ]
  },
  {
   "cell_type": "code",
   "execution_count": null,
   "id": "0c1d08ef",
   "metadata": {},
   "outputs": [],
   "source": [
    "#program to add a title to our file\n",
    "\n",
    "f = open(\"add_newhr.txt\",\"w\")\n",
    "f.write(\"This file contains the information of new HR members\\n\")\n",
    "f.close()"
   ]
  },
  {
   "cell_type": "code",
   "execution_count": 2,
   "id": "fe345426",
   "metadata": {},
   "outputs": [
    {
     "name": "stdout",
     "output_type": "stream",
     "text": [
      "Enter the ID of employee:20LKIU66\n",
      "Enter the name of the employee:RAJESH\n",
      "Enter the Department of the employee:C&B\n",
      "Enter the role of the employee:LEAD \n"
     ]
    }
   ],
   "source": [
    "#Funtion to add the information of new employee of hr\n",
    "\n",
    "def add_HR(emp_id, hr_name, hr_dept, hr_role):\n",
    "    file = open(\"add_newhr.txt\",\"a\")\n",
    "    L = [\"Employee_ID:\",emp_id,\"\\t\\tEmployee_Name:\",hr_name, \"\\t\\tEmployee_Department:\",hr_dept,\"\\t\\tEmployee_Role:\",hr_role,\"\\n\"]\n",
    "    file.writelines(L)\n",
    "    file.close()\n",
    "     \n",
    "#Driver's code\n",
    "emp_id = input(\"Enter the ID of employee:\")\n",
    "hr_name = input(\"Enter the name of the employee:\")\n",
    "hr_dept = input(\"Enter the Department of the employee:\")\n",
    "hr_role = input(\"Enter the role of the employee:\")\n",
    "\n",
    "add_HR(emp_id, hr_name, hr_dept, hr_role)"
   ]
  },
  {
   "cell_type": "code",
   "execution_count": 6,
   "id": "1dda8761",
   "metadata": {},
   "outputs": [
    {
     "name": "stdout",
     "output_type": "stream",
     "text": [
      "Enter the employee ID: 20KIJU86\n",
      "Employee_ID:20KIJU86\n",
      "Employee_Name:YASH\n",
      "Employee_DOJ:23/03/2021\n",
      "Employee_Designation:WEB DEVELOPER\n",
      "Employee_Salary:0\n",
      "\n"
     ]
    }
   ],
   "source": [
    "# program to search a new employee\n",
    "def search_emp(emp_id):\n",
    "    file = open(\"add_employee.txt\",\"r\")\n",
    "    w = file.readlines()\n",
    "    flag = 0\n",
    "    for i in w:\n",
    "        if emp_id in i:\n",
    "            flag = 1\n",
    "            i = i.replace(\"\\t\\t\",\"\\n\")\n",
    "            print(i)\n",
    "    if(flag == 0):\n",
    "        print(\"No such employee found.\")\n",
    "    file.close()\n",
    "\n",
    "emp_id = input(\"Enter the employee ID: \")\n",
    "search_emp(emp_id)"
   ]
  },
  {
   "cell_type": "code",
   "execution_count": 7,
   "id": "799decef",
   "metadata": {},
   "outputs": [
    {
     "name": "stdout",
     "output_type": "stream",
     "text": [
      "Enter the employee ID: 20LOPK53\n",
      "No such employee found.\n"
     ]
    }
   ],
   "source": [
    "# program to search a new HR member\n",
    "def search_hr(emp_id):\n",
    "    file = open(\"add_newhr.txt\",\"r\")\n",
    "    w = file.readlines()\n",
    "    flag = 0\n",
    "    for i in w:\n",
    "        if emp_id in i:\n",
    "            flag = 1\n",
    "            i = i.replace('\\t\\t','\\n')\n",
    "            print(i)\n",
    "    if(flag == 0):\n",
    "        print(\"No such employee found.\")\n",
    "    file.close()\n",
    "\n",
    "emp_id = input(\"Enter the employee ID: \")\n",
    "search_hr(emp_id)"
   ]
  },
  {
   "cell_type": "code",
   "execution_count": 12,
   "id": "f1669b25",
   "metadata": {},
   "outputs": [
    {
     "name": "stdout",
     "output_type": "stream",
     "text": [
      "Enter the id of the employee to be updated:20ASED96\n",
      "Enter the new designation: SOFTWARE ENGINEER III\n",
      "Enter the new salary: 3000000\n",
      "The old details of the employee are:\n",
      "Employee_Designation:SOFTWARE ENGINEER II\n",
      "Employee_Salary:2500000\n",
      "\n"
     ]
    }
   ],
   "source": [
    "# program to update the employee information\n",
    "\n",
    "def upd_emp(emp_id):\n",
    "    file = open(\"add_employee.txt\",\"r\")\n",
    "    w = file.readlines()\n",
    "    n_emp_desig = input(\"Enter the new designation: \")\n",
    "    n_emp_salary = input(\"Enter the new salary: \")\n",
    "    lst = [ ]\n",
    "    for l in w:\n",
    "        if emp_id in l:\n",
    "            lst = list(l.split(\"\\t\\t\"))\n",
    "            print(\"The old details of the employee are:\")\n",
    "            print(lst[3])\n",
    "            print(lst[4])\n",
    "            lst[3] = \"Employee_Designation:\" + n_emp_desig\n",
    "            lst[4] = \"Employee_Salary:\" + n_emp_salary + \"\\n\"\n",
    "        \n",
    "    s = ''\n",
    "    for j in lst:\n",
    "        s = s + j + \"\\t\\t\"\n",
    "    file.close()\n",
    "    \n",
    "    file = open(\"add_employee.txt\",\"w\")\n",
    "    lst2 = []\n",
    "    s = s.strip(\"\\t\\t\")\n",
    "    for n in w:\n",
    "        if emp_id in n:\n",
    "            lst2.append(s)\n",
    "        else:\n",
    "            lst2.append(n)\n",
    "    file.writelines(lst2)\n",
    "    file.close()\n",
    "\n",
    "emp_id = input(\"Enter the id of the employee to be updated:\")\n",
    "upd_emp(emp_id)"
   ]
  },
  {
   "cell_type": "code",
   "execution_count": null,
   "id": "78f1a342",
   "metadata": {},
   "outputs": [],
   "source": []
  }
 ],
 "metadata": {
  "kernelspec": {
   "display_name": "Python 3",
   "language": "python",
   "name": "python3"
  },
  "language_info": {
   "codemirror_mode": {
    "name": "ipython",
    "version": 3
   },
   "file_extension": ".py",
   "mimetype": "text/x-python",
   "name": "python",
   "nbconvert_exporter": "python",
   "pygments_lexer": "ipython3",
   "version": "3.8.8"
  }
 },
 "nbformat": 4,
 "nbformat_minor": 5
}
