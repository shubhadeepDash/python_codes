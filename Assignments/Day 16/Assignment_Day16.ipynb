{
 "cells": [
  {
   "cell_type": "code",
   "execution_count": 3,
   "id": "430953fa",
   "metadata": {},
   "outputs": [
    {
     "name": "stdout",
     "output_type": "stream",
     "text": [
      "The area of the circle is:  200.96\n",
      "The perimeter of the circle is:  50.24\n",
      "The centre distance from the origin is:  5.0\n",
      "The circumference distance from the origin is:  -3.0\n"
     ]
    }
   ],
   "source": [
    "# program of circle problem object oriented and handle the exceptions\n",
    "\n",
    "try: \n",
    "    import math\n",
    "    class Circle():\n",
    "        def __init__(self,x,y,r):\n",
    "            self.xcord = x\n",
    "            self.ycord = y\n",
    "            self.radius = r\n",
    "        \n",
    "        def area(self):\n",
    "            return self.radius**2*3.14\n",
    "    \n",
    "        def perimeter(self):\n",
    "            return self.radius*2*3.14\n",
    "    \n",
    "        def centre_distance(self):\n",
    "            return (math.sqrt((self.xcord**2)+(self.ycord**2)))\n",
    "        \n",
    "        def circum_distance(self):\n",
    "            return (math.sqrt((self.xcord**2)+(self.ycord**2))-self.radius)\n",
    "    \n",
    "    MyCircle = Circle(4,3,8)\n",
    "    print(\"The area of the circle is: \",MyCircle.area())\n",
    "    print(\"The perimeter of the circle is: \",MyCircle.perimeter())\n",
    "    print(\"The centre distance from the origin is: \",MyCircle.centre_distance())\n",
    "    print(\"The circumference distance from the origin is: \",MyCircle.circum_distance())\n",
    "    \n",
    "except ImportError:\n",
    "    print(\"ImportError occurred and handled.\")\n",
    "except ValueError:\n",
    "    print(\"ValueError occurred and handled.\")\n",
    "except AttributeError:\n",
    "    print(\"AttributeError occurred and handled.\")\n",
    "except NameError:\n",
    "    print(\"NameError occurred and handled.\")\n",
    "except:\n",
    "    print(\"An unexpected error occurred and handled.\")"
   ]
  },
  {
   "cell_type": "code",
   "execution_count": 8,
   "id": "01d756a6",
   "metadata": {},
   "outputs": [
    {
     "name": "stdout",
     "output_type": "stream",
     "text": [
      "Enter the number of elements in the array: 3\n",
      "1\n",
      "2\n",
      "3\n",
      "The required subsets are: \n",
      "[[], [3], [2], [2, 3], [1], [1, 3], [1, 2], [1, 2, 3]]\n"
     ]
    }
   ],
   "source": [
    "# program to get all possible unique subsets \n",
    "class Subsets():\n",
    "    \n",
    "    def f1(self, s1):\n",
    "        return self.f2([],sorted(s1))\n",
    "    \n",
    "    def f2(self, curr, s1):\n",
    "        if s1:\n",
    "            return self.f2(curr,s1[1:]) + self.f2(curr + [s1[0]],s1[1:])\n",
    "        return [curr]\n",
    "    \n",
    "n = int(input(\"Enter the number of elements in the array: \"))\n",
    "lst = [int(input()) for i in range(n)]\n",
    "print(\"The required subsets are: \")\n",
    "print(Subsets().f1(lst))"
   ]
  },
  {
   "cell_type": "code",
   "execution_count": 2,
   "id": "5f66fbc1",
   "metadata": {},
   "outputs": [
    {
     "name": "stdout",
     "output_type": "stream",
     "text": [
      "Enter the number of elements: 3\n",
      "1\n",
      "2\n",
      "3\n",
      "The required subsets are: \n",
      "[[], [1], [2], [1, 2], [3], [1, 3], [2, 3], [1, 2, 3]]\n"
     ]
    }
   ],
   "source": [
    "# program to get all possible unique subsets without using recursion\n",
    "\n",
    "class Sub_sets():\n",
    "    def method(self,lst):\n",
    "        curr = [[]]\n",
    "        for i in lst:\n",
    "            curr = curr + [j + [i] for j in curr]\n",
    "        return curr\n",
    "n = int(input(\"Enter the number of elements: \"))\n",
    "lst = [int(input()) for i in range(n)]\n",
    "print(\"The required subsets are: \")\n",
    "print(Sub_sets().method(lst))"
   ]
  },
  {
   "cell_type": "code",
   "execution_count": 6,
   "id": "f5bd8168",
   "metadata": {
    "scrolled": true
   },
   "outputs": [
    {
     "name": "stdout",
     "output_type": "stream",
     "text": [
      "Enter the number of elements in the array: 8\n",
      "-25\n",
      "-10\n",
      "-7\n",
      "-3\n",
      "2\n",
      "4\n",
      "8\n",
      "10\n",
      "The required solution of the question is:\n",
      "[[-10, 2, 8], [-7, -3, 10]]\n"
     ]
    }
   ],
   "source": [
    "# program to find the numbers having sum 0\n",
    "\n",
    "class py_solution:\n",
    "    def threeSum(self, nums):\n",
    "        nums, result, i = sorted(nums), [], 0\n",
    "        while i < len(nums) - 2:\n",
    "            j, k = i + 1, len(nums) - 1\n",
    "            while j < k:\n",
    "                if nums[i] + nums[j] + nums[k] < 0:\n",
    "                    j += 1\n",
    "                elif nums[i] + nums[j] + nums[k] > 0:\n",
    "                    k -= 1\n",
    "                else:\n",
    "                    result.append([nums[i], nums[j], nums[k]])\n",
    "                    j, k = j + 1, k - 1\n",
    "                    while j < k and nums[j] == nums[j - 1]:\n",
    "                        j += 1\n",
    "                    while j < k and nums[k] == nums[k + 1]:\n",
    "                        k -= 1\n",
    "            i += 1\n",
    "            while i < len(nums) - 2 and nums[i] == nums[i - 1]:\n",
    "                i += 1\n",
    "        return result\n",
    "\n",
    "n = int(input(\"Enter the number of elements in the array: \"))\n",
    "array = [int(input()) for i in range(n)]\n",
    "print(\"The required solution of the question is:\")\n",
    "print(py_solution().threeSum(array))"
   ]
  },
  {
   "cell_type": "code",
   "execution_count": 18,
   "id": "ea71a742",
   "metadata": {},
   "outputs": [
    {
     "name": "stdout",
     "output_type": "stream",
     "text": [
      "Enter the float value: 25.6\n",
      "The smallest integer not less than the number is:  26\n",
      "The greatest integer not greater than the number is:  25\n"
     ]
    }
   ],
   "source": [
    "flt = float(input(\"Enter the float value: \"))\n",
    "num = int(flt)\n",
    "y = flt - num\n",
    "if(y == 0):\n",
    "    print(\"The smallest integer not less than the number is: \",num)\n",
    "    print(\"The greatest integer not greater than the number is: \",num)\n",
    "else:\n",
    "    print(\"The smallest integer not less than the number is: \",num+1)\n",
    "    print(\"The greatest integer not greater than the number is: \",num)"
   ]
  },
  {
   "cell_type": "code",
   "execution_count": 20,
   "id": "87bc55d8",
   "metadata": {},
   "outputs": [
    {
     "name": "stdout",
     "output_type": "stream",
     "text": [
      "The longest line in the file is:  ABIOGENETICALLY\n"
     ]
    }
   ],
   "source": [
    "file = open(r'C:\\Users\\lenovo\\Desktop\\PYTHON(INTERNSHIP)\\Assignments\\Day 16\\sowpods.txt')\n",
    "lines = file.readlines()\n",
    "lines = [l.strip() for l in lines]\n",
    "longest = \"\"\n",
    "for l in lines:\n",
    "    if(len(l)>len(longest)):\n",
    "        longest = l\n",
    "print(\"The longest line in the file is: \",longest)\n",
    "file.close()"
   ]
  },
  {
   "cell_type": "code",
   "execution_count": 6,
   "id": "147926b5",
   "metadata": {},
   "outputs": [
    {
     "name": "stdout",
     "output_type": "stream",
     "text": [
      "Enter the string to find the permutations: ABB\n",
      "['ABB', 'BAB', 'BBA']\n"
     ]
    }
   ],
   "source": [
    "# program to find all the permutations of a given string\n",
    "lstt = []\n",
    "def Result(List):\n",
    "    return ''.join(List)\n",
    "def permute(a,l,r):\n",
    "    if l == r:\n",
    "        lstt.append(Result(a))\n",
    "    else:\n",
    "        for i in range(l,r+1):\n",
    "            a[l],a[i] = a[i],a[l]\n",
    "            permute(a,l+1,r)\n",
    "            a[l],a[i] = a[i],a[l]\n",
    "    return lstt\n",
    "\n",
    "string = input(\"Enter the string to find the permutations: \")\n",
    "n = len(string)\n",
    "a = list(string)\n",
    "l = permute(a, 0 , n - 1)\n",
    "res = [ ]\n",
    "for i in l:\n",
    "    if i not in res:\n",
    "        res.append(i)\n",
    "print(res)"
   ]
  },
  {
   "cell_type": "code",
   "execution_count": null,
   "id": "2125ce3b",
   "metadata": {},
   "outputs": [],
   "source": []
  }
 ],
 "metadata": {
  "kernelspec": {
   "display_name": "Python 3",
   "language": "python",
   "name": "python3"
  },
  "language_info": {
   "codemirror_mode": {
    "name": "ipython",
    "version": 3
   },
   "file_extension": ".py",
   "mimetype": "text/x-python",
   "name": "python",
   "nbconvert_exporter": "python",
   "pygments_lexer": "ipython3",
   "version": "3.8.8"
  }
 },
 "nbformat": 4,
 "nbformat_minor": 5
}
