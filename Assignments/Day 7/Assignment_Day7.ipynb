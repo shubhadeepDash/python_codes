{
 "cells": [
  {
   "cell_type": "markdown",
   "id": "44e8d35a",
   "metadata": {},
   "source": [
    "# Longest common prefix"
   ]
  },
  {
   "cell_type": "code",
   "execution_count": 17,
   "id": "1a3e772d",
   "metadata": {},
   "outputs": [
    {
     "name": "stdout",
     "output_type": "stream",
     "text": [
      "Enter the first string: flower\n",
      "Enter the second string: floor\n",
      "<zip object at 0x000002E614E72B80>\n",
      "[('f', 'f'), ('l', 'l'), ('o', 'o'), ('w', 'o'), ('e', 'r')]\n",
      "The longest common prefix from the strings is:\n",
      "f l o "
     ]
    }
   ],
   "source": [
    "# program to print the longest common prefix from two strings\n",
    "\n",
    "str1 = input(\"Enter the first string: \")\n",
    "str2 = input(\"Enter the second string: \")\n",
    "z = zip(str1,str2)\n",
    "print(z)\n",
    "zipped = list(z)\n",
    "print(zipped)\n",
    "print(\"The longest common prefix from the strings is:\")\n",
    "for i,j in zipped:\n",
    "    if (i == j):\n",
    "        print(i, end=' ')"
   ]
  },
  {
   "cell_type": "markdown",
   "id": "a6f24cab",
   "metadata": {},
   "source": [
    "# Distance, time, speed"
   ]
  },
  {
   "cell_type": "code",
   "execution_count": 18,
   "id": "33697135",
   "metadata": {},
   "outputs": [
    {
     "name": "stdout",
     "output_type": "stream",
     "text": [
      "Enter the number of elements: 5\n",
      "Enter the distances: 10\n",
      "Enter the distances: 20\n",
      "Enter the distances: 30\n",
      "Enter the distances: 40\n",
      "Enter the distances: 50\n",
      "Distances:  [10, 20, 30, 40, 50]\n",
      "Enter the times: 1\n",
      "Enter the times: 5\n",
      "Enter the times: 3\n",
      "Enter the times: 2\n",
      "Enter the times: 4\n",
      "Times:  [1, 5, 3, 2, 4]\n",
      "Speeds:  [10.0, 4.0, 10.0, 20.0, 12.5]\n"
     ]
    }
   ],
   "source": [
    "#program to take distance and time to return speeds\n",
    "dist = [ ]\n",
    "time = [ ]\n",
    "n = int(input(\"Enter the number of elements: \"))\n",
    "for i in range(n):\n",
    "    e = int(input(\"Enter the distances: \"))\n",
    "    dist.append(e)\n",
    "print(\"Distances: \",dist)\n",
    "for i in range(n):\n",
    "    e = int(input(\"Enter the times: \"))\n",
    "    time.append(e)\n",
    "print(\"Times: \",time)\n",
    "speed = [(dist[i])/time[i] for i in range(n)]\n",
    "print(\"Speeds: \",speed)"
   ]
  },
  {
   "cell_type": "code",
   "execution_count": 19,
   "id": "0100228d",
   "metadata": {},
   "outputs": [
    {
     "name": "stdout",
     "output_type": "stream",
     "text": [
      "Enter the number of elements: 5\n",
      "Enter the distances: 10\n",
      "Enter the distances: 20\n",
      "Enter the distances: 30\n",
      "Enter the distances: 40\n",
      "Enter the distances: 50\n",
      "Distances:  [10, 20, 30, 40, 50]\n",
      "Enter the times: 1\n",
      "Enter the times: 5\n",
      "Enter the times: 3\n",
      "Enter the times: 2\n",
      "Enter the times: 4\n",
      "Times:  [1, 5, 3, 2, 4]\n",
      "Speeds:  [10.0, 4.0, 10.0, 20.0, 12.5]\n"
     ]
    }
   ],
   "source": [
    "#program to take distance and time to return speeds\n",
    "dist = [ ]\n",
    "time = [ ]\n",
    "n = int(input(\"Enter the number of elements: \"))\n",
    "for i in range(n):\n",
    "    e = int(input(\"Enter the distances: \"))\n",
    "    dist.append(e)\n",
    "print(\"Distances: \",dist)\n",
    "for i in range(n):\n",
    "    e = int(input(\"Enter the times: \"))\n",
    "    time.append(e)\n",
    "print(\"Times: \",time)\n",
    "\n",
    "speed = [ ]\n",
    "for i,j in zip(dist,time):\n",
    "    speed.append(i/j)\n",
    "print(\"Speeds: \",speed)"
   ]
  },
  {
   "cell_type": "code",
   "execution_count": 14,
   "id": "69e804cb",
   "metadata": {},
   "outputs": [
    {
     "name": "stdout",
     "output_type": "stream",
     "text": [
      "Enter the distance separated with space: 10 20 30 40 50 \n",
      "Enter the time separated with space: 1 5 3 2 4 \n",
      "[('10', '1'), ('20', '5'), ('30', '3'), ('40', '2'), ('50', '4')]\n",
      "[10.0, 4.0, 10.0, 20.0, 12.5]\n"
     ]
    }
   ],
   "source": [
    "# program to take distance and time and return speeds \n",
    "dist = input(\"Enter the distance separated with space: \")\n",
    "time = input(\"Enter the time separated with space: \")\n",
    "dlist = dist.split()\n",
    "tlist = time.split()\n",
    "zlist = list(zip(dlist,tlist))\n",
    "print(zlist)\n",
    "slist = [int(i[0])/int(i[1]) for i in zlist]\n",
    "print(list(slist))"
   ]
  },
  {
   "cell_type": "markdown",
   "id": "d62d1a94",
   "metadata": {},
   "source": [
    "# Triangle problem"
   ]
  },
  {
   "cell_type": "code",
   "execution_count": 23,
   "id": "a70d2f8d",
   "metadata": {},
   "outputs": [
    {
     "name": "stdout",
     "output_type": "stream",
     "text": [
      "Enter the side of the triangle: 6\n",
      "Enter the side of the triangle: 6\n",
      "Enter the side of the triangle: 6\n",
      "The given triangle is valid.\n",
      "The triangle is an equilateral triangle.\n"
     ]
    }
   ],
   "source": [
    "# problem to check whether a triangle is valid or not, if valid \n",
    "# check whether it is equilateral, right-angled or isosceles triangle\n",
    "# if right angled find the radius of circumference\n",
    "\n",
    "a = int(input(\"Enter the side of the triangle: \"))\n",
    "b = int(input(\"Enter the side of the triangle: \"))\n",
    "c = int(input(\"Enter the side of the triangle: \"))\n",
    "\n",
    "if(a + b > c or b + c > a or a + c > b):\n",
    "    print(\"The given triangle is valid.\")\n",
    "    if (a == b == c):\n",
    "        print(\"The triangle is an equilateral triangle.\")\n",
    "    elif ((a**2) + (b**2) == (c**2) or (b**2) + (c**2) == (a**2) or (a**2) + (c**2) == (b**2) ):\n",
    "        print(\"The triangle is a right-angled triangle.\")\n",
    "        if((a**2) + (b**2) == (c**2)):\n",
    "            r = c/2\n",
    "            print(\"The radius of circumference is\",r)\n",
    "        elif((b**2) + (c**2) == (a**2)):\n",
    "            r = a/2\n",
    "            print(\"The radius of circumference is\",r)\n",
    "        else:\n",
    "            r = b/2\n",
    "            print(\"The radius of circumference is\",r)\n",
    "    elif (a == b or b == c or a == c):\n",
    "        print(\"The triangle is an isosceles triangle.\")\n",
    "    else:\n",
    "        print(\"The triangle is a scalene triangle.\")\n",
    "else:\n",
    "    print(\"The given triangle is invalid.\")"
   ]
  },
  {
   "cell_type": "code",
   "execution_count": null,
   "id": "02c282e7",
   "metadata": {},
   "outputs": [],
   "source": []
  }
 ],
 "metadata": {
  "kernelspec": {
   "display_name": "Python 3",
   "language": "python",
   "name": "python3"
  },
  "language_info": {
   "codemirror_mode": {
    "name": "ipython",
    "version": 3
   },
   "file_extension": ".py",
   "mimetype": "text/x-python",
   "name": "python",
   "nbconvert_exporter": "python",
   "pygments_lexer": "ipython3",
   "version": "3.8.8"
  }
 },
 "nbformat": 4,
 "nbformat_minor": 5
}
