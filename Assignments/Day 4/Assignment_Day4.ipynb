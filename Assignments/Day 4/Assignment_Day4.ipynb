{
 "cells": [
  {
   "cell_type": "markdown",
   "id": "163c8a3c",
   "metadata": {},
   "source": [
    "# String first two last two"
   ]
  },
  {
   "cell_type": "code",
   "execution_count": 1,
   "id": "8de4c7ca",
   "metadata": {},
   "outputs": [
    {
     "name": "stdout",
     "output_type": "stream",
     "text": [
      "Enter a string: Shubhadeep\n",
      "The resulting string is: \n",
      "Shep\n"
     ]
    }
   ],
   "source": [
    "#program to print the first two and last two characters of a string\n",
    "\n",
    "string = input(\"Enter a string: \")\n",
    "first = string[0]\n",
    "second = string [1]\n",
    "scnd_last = string [-2]\n",
    "last = string [-1]\n",
    "print(\"The resulting string is: \")\n",
    "print(first+second+scnd_last+last)"
   ]
  },
  {
   "cell_type": "markdown",
   "id": "4da67bdc",
   "metadata": {},
   "source": [
    "# Pallindromic string"
   ]
  },
  {
   "cell_type": "code",
   "execution_count": 6,
   "id": "26ad1c88",
   "metadata": {},
   "outputs": [
    {
     "name": "stdout",
     "output_type": "stream",
     "text": [
      "Enter the string to be checked: python\n",
      "The reversed string is: nohtyp\n",
      "The entered string is not a pallindrome\n"
     ]
    }
   ],
   "source": [
    "# program to check whether the string is a pallindrome\n",
    "\n",
    "string = input(\"Enter the string to be checked: \")\n",
    "index = len(string)\n",
    "rev_string = ''\n",
    "while (index > 0):\n",
    "    rev_string += string[index - 1] \n",
    "    index -= 1\n",
    "print(\"The reversed string is: {}\".format(rev_string))\n",
    "if (string == rev_string):\n",
    "    print(\"The entered string is a pallindrome\")\n",
    "else:\n",
    "    print(\"The entered string is not a pallindrome\")"
   ]
  },
  {
   "cell_type": "markdown",
   "id": "3aefb018",
   "metadata": {},
   "source": [
    "# Capitalize whole sentence"
   ]
  },
  {
   "cell_type": "code",
   "execution_count": 7,
   "id": "9291b937",
   "metadata": {},
   "outputs": [
    {
     "name": "stdout",
     "output_type": "stream",
     "text": [
      "Enter the sentence to capitalize: i love python\n",
      "The capitalized sentence is:  I LOVE PYTHON\n"
     ]
    }
   ],
   "source": [
    "# program to capitalize the whole sentence\n",
    "\n",
    "string = input(\"Enter the sentence to capitalize: \")\n",
    "capital_string = ' '\n",
    "for i in string:\n",
    "    i = i.capitalize()\n",
    "    capital_string += i\n",
    "print(\"The capitalized sentence is:\",capital_string)    "
   ]
  },
  {
   "cell_type": "code",
   "execution_count": 13,
   "id": "87079ce6",
   "metadata": {},
   "outputs": [
    {
     "name": "stdout",
     "output_type": "stream",
     "text": [
      "Enter the sentence to capitalize: i love python\n",
      "The capitalized sentence is: I LOVE PYTHON\n"
     ]
    }
   ],
   "source": [
    "string = input(\"Enter the sentence to capitalize: \")\n",
    "capital_string = string.upper()\n",
    "print(\"The capitalized sentence is:\",capital_string)"
   ]
  },
  {
   "cell_type": "markdown",
   "id": "b32675e1",
   "metadata": {},
   "source": [
    "# Consonants in a string\n"
   ]
  },
  {
   "cell_type": "code",
   "execution_count": 18,
   "id": "f9fbd856",
   "metadata": {},
   "outputs": [
    {
     "name": "stdout",
     "output_type": "stream",
     "text": [
      "Enter the string to check: Shubheidp\n",
      "The consonants in the string are: Shbhdp\n"
     ]
    }
   ],
   "source": [
    "# program to print the consonants in a string\n",
    "string = input(\"Enter the string to check: \")\n",
    "consonant_string = ''\n",
    "for i in string:\n",
    "    if (i == 'a' or i == 'e' or i == 'i' or i == 'o' or i == 'u'):\n",
    "        continue\n",
    "    elif (i == 'A' or i == 'E' or i == 'I' or i == 'O' or i == 'U'):\n",
    "        continue\n",
    "    else:\n",
    "        consonant_string += i\n",
    "        continue\n",
    "print(\"The consonants in the string are:\",consonant_string)"
   ]
  },
  {
   "cell_type": "code",
   "execution_count": 19,
   "id": "8901b34a",
   "metadata": {},
   "outputs": [
    {
     "name": "stdout",
     "output_type": "stream",
     "text": [
      "Enter the string to check: Shubheidp\n",
      "The consonants in the string are: shbhdp\n"
     ]
    }
   ],
   "source": [
    "# program to print consonants in a string\n",
    "string = input(\"Enter the string to check: \")\n",
    "stringL = string.lower()\n",
    "vowel_string = 'aeiou'\n",
    "consonant_string = ''\n",
    "for i in stringL :\n",
    "    if i not in vowel_string :\n",
    "        consonant_string += i\n",
    "    else:\n",
    "        continue\n",
    "print(\"The consonants in the string are:\",consonant_string)"
   ]
  },
  {
   "cell_type": "markdown",
   "id": "44363289",
   "metadata": {},
   "source": [
    "# Check perfect square"
   ]
  },
  {
   "cell_type": "code",
   "execution_count": 12,
   "id": "06db9c47",
   "metadata": {},
   "outputs": [
    {
     "name": "stdout",
     "output_type": "stream",
     "text": [
      "Enter the number to check: 16\n",
      "4.0\n",
      "16 is a perfect square.\n"
     ]
    }
   ],
   "source": [
    "# program to check whether the input number is a perfect square\n",
    "\n",
    "import math\n",
    "num = int(input(\"Enter the number to check: \"))\n",
    "\n",
    "root = math.sqrt(num)\n",
    "print(root)\n",
    "if(int(root + 0.5) ** 2 == num):\n",
    "    print(\"{} is a perfect square.\".format(num))\n",
    "else:\n",
    "    print(\"{} is not a perfect square.\".format(num))"
   ]
  }
 ],
 "metadata": {
  "kernelspec": {
   "display_name": "Python 3",
   "language": "python",
   "name": "python3"
  },
  "language_info": {
   "codemirror_mode": {
    "name": "ipython",
    "version": 3
   },
   "file_extension": ".py",
   "mimetype": "text/x-python",
   "name": "python",
   "nbconvert_exporter": "python",
   "pygments_lexer": "ipython3",
   "version": "3.8.8"
  }
 },
 "nbformat": 4,
 "nbformat_minor": 5
}
