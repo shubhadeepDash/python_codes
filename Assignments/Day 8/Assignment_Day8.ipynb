{
 "cells": [
  {
   "cell_type": "markdown",
   "id": "de8220d3",
   "metadata": {},
   "source": [
    "# printing the products"
   ]
  },
  {
   "cell_type": "code",
   "execution_count": 2,
   "id": "6ddf47b3",
   "metadata": {},
   "outputs": [
    {
     "name": "stdout",
     "output_type": "stream",
     "text": [
      "Products with price higher than 10 are: \n",
      "orange\n",
      "kiwi\n"
     ]
    }
   ],
   "source": [
    "#program to print the products with price higher than 10\n",
    "\n",
    "product = {1:{'name':'orange','price':20}, 2:{'name':'apple','price':8}, 3:{'name':'banana','price':10}, 4:{'name':'kiwi','price':30}}\n",
    "print(\"Products with price higher than 10 are: \")\n",
    "for i in product.keys():\n",
    "    if product[i]['price'] > 10:\n",
    "        print(product[i]['name'])"
   ]
  },
  {
   "cell_type": "markdown",
   "id": "15ff0e65",
   "metadata": {},
   "source": [
    "# product quantities and prices"
   ]
  },
  {
   "cell_type": "code",
   "execution_count": 3,
   "id": "82dfdbdc",
   "metadata": {},
   "outputs": [
    {
     "name": "stdout",
     "output_type": "stream",
     "text": [
      "Enter the quantities of each product with spaces => 10 20 30 40 \n",
      "Enter the price of each product with spaces=> 1 2 3 4\n",
      "list of quantities: ['10', '20', '30', '40']\n",
      "list of prices: ['1', '2', '3', '4']\n",
      "Total amount is: 300.0\n"
     ]
    }
   ],
   "source": [
    "#program to calculate total form product quantities and prices (using list comprehension and aggregation)\n",
    "\n",
    "quantity = list(input(\"Enter the quantities of each product with spaces => \").split())\n",
    "price = list(input(\"Enter the price of each product with spaces=> \").split())\n",
    "\n",
    "print(f\"list of quantities: {quantity}\")\n",
    "print(f\"list of prices: {price}\")\n",
    "\n",
    "result_list = [int(quantity[i]) * float(price[i]) for i in range(len(quantity))]\n",
    "\n",
    "total = sum(result_list)\n",
    "print(f\"Total amount is: {total}\")"
   ]
  },
  {
   "cell_type": "markdown",
   "id": "3ab86c92",
   "metadata": {},
   "source": [
    "# who's the winner"
   ]
  },
  {
   "cell_type": "code",
   "execution_count": 18,
   "id": "cdee9cbd",
   "metadata": {},
   "outputs": [
    {
     "name": "stdout",
     "output_type": "stream",
     "text": [
      "Enter the list of tickets for candidates(space separated): a a c a b b b e\n",
      "The list of tickets for candidates is: ['a', 'a', 'c', 'a', 'b', 'b', 'b', 'e']\n",
      "The list of candidates is: ['a', 'c', 'b', 'e']\n",
      "{'a': 3, 'c': 1, 'b': 3, 'e': 1}\n",
      "The winner is:  a\n",
      "The winner is:  b\n"
     ]
    }
   ],
   "source": [
    "# from a list of tickets for candidates, find who's the winner\n",
    "\n",
    "tickets = list(input(\"Enter the list of tickets for candidates(space separated): \").split())\n",
    "print(f\"The list of tickets for candidates is: {tickets}\")\n",
    "\n",
    "candidates = [ ]\n",
    "for i in tickets:\n",
    "    if i not in candidates:\n",
    "        candidates.append(i)\n",
    "print(f\"The list of candidates is: {candidates}\")\n",
    "\n",
    "dictionary = {i : tickets.count(i) for i in candidates}\n",
    "print(dictionary)\n",
    "\n",
    "maximum = max(dictionary.values())\n",
    "\n",
    "for i,j in dictionary.items():\n",
    "    if j == maximum:\n",
    "        print(\"The winner is: \",i)"
   ]
  }
 ],
 "metadata": {
  "kernelspec": {
   "display_name": "Python 3",
   "language": "python",
   "name": "python3"
  },
  "language_info": {
   "codemirror_mode": {
    "name": "ipython",
    "version": 3
   },
   "file_extension": ".py",
   "mimetype": "text/x-python",
   "name": "python",
   "nbconvert_exporter": "python",
   "pygments_lexer": "ipython3",
   "version": "3.8.8"
  }
 },
 "nbformat": 4,
 "nbformat_minor": 5
}
