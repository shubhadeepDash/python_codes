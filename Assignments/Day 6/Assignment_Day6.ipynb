{
 "cells": [
  {
   "cell_type": "markdown",
   "id": "2d62a7d6",
   "metadata": {},
   "source": [
    "# Ancient Chineese Puzzle"
   ]
  },
  {
   "cell_type": "code",
   "execution_count": 1,
   "id": "a48da68b",
   "metadata": {},
   "outputs": [
    {
     "name": "stdout",
     "output_type": "stream",
     "text": [
      "The number of chickens are 23 and rabbits are 12\n"
     ]
    }
   ],
   "source": [
    "#program to find the number of chickens and rabbits\n",
    "# let i is number of chicken and j is number of rabbits\n",
    "heads = 35\n",
    "legs = 94 \n",
    "for i in range(heads+1):\n",
    "    j = heads - i \n",
    "    if(i * 2 + j * 4 == legs):\n",
    "        print(\"The number of chickens are {} and rabbits are {}\".format(i,j))"
   ]
  },
  {
   "cell_type": "markdown",
   "id": "daf9c1a9",
   "metadata": {},
   "source": [
    "# combo of tuples"
   ]
  },
  {
   "cell_type": "code",
   "execution_count": 14,
   "id": "1a95634e",
   "metadata": {},
   "outputs": [
    {
     "name": "stdout",
     "output_type": "stream",
     "text": [
      "Enter the number of elements for list 1: 3\n",
      "Enter the elements: 1\n",
      "Enter the elements: 2\n",
      "Enter the elements: 3\n",
      "[1, 2, 3]\n",
      "Enter the number of elements for list 2: 3\n",
      "Enter the elements: 1\n",
      "Enter the elements: 2\n",
      "Enter the elements: 3\n",
      "[1, 2, 3]\n",
      "[(1, 2), (1, 3), (2, 1), (2, 3), (3, 1), (3, 2)]\n"
     ]
    }
   ],
   "source": [
    "# program to create a tuple from two lists in which the tuple should have \n",
    "# a combination of unlike numbers using list comprehension\n",
    "\n",
    "list1 = [ ]  \n",
    "n1 = int(input(\"Enter the number of elements for list 1: \"))\n",
    "for i in range(n1):\n",
    "    e = int(input(\"Enter the elements: \"))\n",
    "    list1.append(e)\n",
    "print(list1)\n",
    "\n",
    "list2 = [ ]\n",
    "n2 = int(input(\"Enter the number of elements for list 2: \"))\n",
    "for j in range(n2):\n",
    "    e = int(input(\"Enter the elements: \"))\n",
    "    list2.append(e)\n",
    "print(list2)\n",
    "\n",
    "output = [(a,b) for a  in list1 for b in list2 if a!=b]\n",
    "print(output)"
   ]
  },
  {
   "cell_type": "markdown",
   "id": "d608563d",
   "metadata": {},
   "source": [
    "# Frequency of words in a sentence"
   ]
  },
  {
   "cell_type": "code",
   "execution_count": 2,
   "id": "1cda1be0",
   "metadata": {},
   "outputs": [
    {
     "name": "stdout",
     "output_type": "stream",
     "text": [
      "Enter the sentence: I am I and You and has me\n",
      "['I', 'am', 'I', 'and', 'You', 'and', 'has', 'me']\n",
      "['I', 'am', 'and', 'You', 'has', 'me']\n",
      "I 2\n",
      "am 1\n",
      "and 2\n",
      "You 1\n",
      "has 1\n",
      "me 1\n"
     ]
    }
   ],
   "source": [
    "#program to find the frequency of each word in a sentence\n",
    "\n",
    "string = input(\"Enter the sentence: \")\n",
    "string = string.split()\n",
    "print(string)\n",
    "words = [ ]\n",
    "for i in string:\n",
    "    if i not in words:\n",
    "        words.append(i)\n",
    "print(words)\n",
    "for i in words:\n",
    "    print(i, string.count(i))"
   ]
  }
 ],
 "metadata": {
  "kernelspec": {
   "display_name": "Python 3",
   "language": "python",
   "name": "python3"
  },
  "language_info": {
   "codemirror_mode": {
    "name": "ipython",
    "version": 3
   },
   "file_extension": ".py",
   "mimetype": "text/x-python",
   "name": "python",
   "nbconvert_exporter": "python",
   "pygments_lexer": "ipython3",
   "version": "3.8.8"
  }
 },
 "nbformat": 4,
 "nbformat_minor": 5
}
