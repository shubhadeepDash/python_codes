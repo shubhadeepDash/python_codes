{
 "cells": [
  {
   "cell_type": "code",
   "execution_count": 11,
   "id": "2c77c739",
   "metadata": {},
   "outputs": [
    {
     "name": "stdout",
     "output_type": "stream",
     "text": [
      "{5: 81, 6: 84, 2: 75, 4: 86, 3: 82, 1: 92}\n"
     ]
    }
   ],
   "source": [
    "# using the random module (randint) find the occurence of numbers between 1 to 6 of die if it\n",
    "# is rolled 500 times\n",
    "\n",
    "import random\n",
    "\n",
    "list1 = [random.randint(1,6) for i in range(500)]\n",
    "c1 = c2 = c3 = c4 = c5 = c6 = 0\n",
    "d = {}\n",
    "for i in list1:\n",
    "    if i == 1:\n",
    "        c1 += 1\n",
    "        d.update({1:c1})\n",
    "    elif i == 2:\n",
    "        c2 += 1\n",
    "        d.update({2:c2})\n",
    "    elif i == 3:\n",
    "        c3 += 1\n",
    "        d.update({3:c3})\n",
    "    elif i == 4:\n",
    "        c4 += 1\n",
    "        d.update({4:c4})\n",
    "    elif i == 5:\n",
    "        c5 += 1\n",
    "        d.update({5:c5})\n",
    "    else:\n",
    "        c6 += 1\n",
    "        d.update({6:c6})\n",
    "print(d)       "
   ]
  },
  {
   "cell_type": "code",
   "execution_count": 15,
   "id": "cfb1cc60",
   "metadata": {},
   "outputs": [
    {
     "name": "stdout",
     "output_type": "stream",
     "text": [
      "{1: 91, 2: 82, 3: 77, 4: 72, 5: 99, 6: 79}\n"
     ]
    }
   ],
   "source": [
    "import random\n",
    "listt = [random.randint(1,6) for i in range(500)]\n",
    "d = {i:listt.count(i) for i in range(1,7)}\n",
    "print(d)"
   ]
  },
  {
   "cell_type": "code",
   "execution_count": 10,
   "id": "4e4b9361",
   "metadata": {},
   "outputs": [
    {
     "name": "stdout",
     "output_type": "stream",
     "text": [
      "[[7, 2, 4, 9], [6, 8, 5, 3], [1, 4, 3, 6], [4, 6, 2, 10]]\n",
      "2\n",
      "4\n",
      "6\n",
      "8\n",
      "4\n",
      "6\n",
      "4\n",
      "6\n",
      "2\n",
      "10\n"
     ]
    }
   ],
   "source": [
    "# to print all the even numbers from a given code\n",
    "\n",
    "mat = [[random.randint(1,10) for i in range(4)] for row in range(4)]\n",
    "print(mat)\n",
    "for i in range(4):\n",
    "    for j in range(4):\n",
    "        if(mat[i][j]%2==0):\n",
    "            print(mat[i][j])"
   ]
  },
  {
   "cell_type": "code",
   "execution_count": 12,
   "id": "1532ad38",
   "metadata": {},
   "outputs": [
    {
     "name": "stdout",
     "output_type": "stream",
     "text": [
      "Enter the number you wanna check: 5\n",
      "2.23606797749979\n",
      "5 is a prime number.\n"
     ]
    }
   ],
   "source": [
    "# to check whether it is a prime number or not\n",
    "# checking till sqrt(N) instead of N\n",
    "\n",
    "from math import sqrt\n",
    "\n",
    "n = int(input(\"Enter the number you wanna check: \"))\n",
    "count = 0\n",
    "print(sqrt(n))\n",
    "for i in range(1,int(sqrt(n))+1):\n",
    "    if n % i == 0:\n",
    "        count += 1\n",
    "if count == 1:\n",
    "    print(f\"{n} is a prime number.\")\n",
    "else:\n",
    "    print(f\"{n} is not a prime number.\")"
   ]
  },
  {
   "cell_type": "code",
   "execution_count": 8,
   "id": "0d1cfd4c",
   "metadata": {},
   "outputs": [
    {
     "name": "stdout",
     "output_type": "stream",
     "text": [
      "Random alphabetical character is : U\n",
      "Random alphabetical string of arbitrary length:  OWqZGQijyJnbzhrlybFIUay\n",
      "Enter the length of the string:10\n",
      "Random alphabetical string of fixed length:  LfdMtuZVmz\n"
     ]
    }
   ],
   "source": [
    "# python program to generate a random\n",
    "# i. alphabetical character\n",
    "# ii. alphabetical string with arbitrary length\n",
    "# iii. alphabetical string of a fixed length\n",
    "\n",
    "import random,string\n",
    "ch = random.choice(string.ascii_letters)\n",
    "print(\"Random alphabetical character is :\",ch)\n",
    "\n",
    "s = ' '\n",
    "for i in range(random.randint(1,50)):\n",
    "    s = s + random.choice(string.ascii_letters)\n",
    "print(\"Random alphabetical string of arbitrary length:\",s)\n",
    "\n",
    "S = ' '\n",
    "n = int(input(\"Enter the length of the string:\"))\n",
    "for i in range(n):\n",
    "    S = S + random.choice(string.ascii_letters)\n",
    "print(\"Random alphabetical string of fixed length:\",S)"
   ]
  },
  {
   "cell_type": "code",
   "execution_count": 23,
   "id": "f1f916f5",
   "metadata": {},
   "outputs": [
    {
     "name": "stdout",
     "output_type": "stream",
     "text": [
      "Create a list of random integers: \n",
      "[35, 1, 53, 74, 25, 61, 63, 10, 55, 98]\n",
      "\n",
      "Enter the number of multiple items to be selected(less than 10): 9\n",
      "Randomly selected 9 multiple items from the said list are\n",
      "[25, 53, 98, 63, 55, 10, 61, 35, 74]\n"
     ]
    }
   ],
   "source": [
    "# program to create a list of random integers and randomly select multiple items\n",
    "\n",
    "import random\n",
    "print(\"Create a list of random integers: \")\n",
    "p = range(0,100)\n",
    "listt = random.sample(p,10)\n",
    "print(listt)\n",
    "\n",
    "n_ele = int(input(\"\\nEnter the number of multiple items to be selected(less than 10): \"))\n",
    "print(f\"Randomly selected {n_ele} multiple items from the said list are\")\n",
    "result_ele = random.sample(listt,n_ele)\n",
    "print(result_ele)"
   ]
  },
  {
   "cell_type": "code",
   "execution_count": 29,
   "id": "dd373ebc",
   "metadata": {},
   "outputs": [
    {
     "name": "stdout",
     "output_type": "stream",
     "text": [
      "Enter the string: sanskar\n",
      "['n', 'k', 'r']\n",
      "Enter the value of k: 3\n",
      "kth non repeating character is:  r\n"
     ]
    }
   ],
   "source": [
    "# program to find the k th non repeating character in string\n",
    "\n",
    "string = input(\"Enter the string: \")\n",
    "n_rep = [ ]\n",
    "for i in string:\n",
    "    if string.count(i) == 1:\n",
    "        n_rep.append(i)\n",
    "print(n_rep)\n",
    "k = int(input(\"Enter the value of k: \"))\n",
    "if k > len(n_rep):\n",
    "    print(\"K is greater than the number of non repeating characters.\")\n",
    "else:\n",
    "    print(\"kth non repeating character is: \",n_rep[k-1])"
   ]
  }
 ],
 "metadata": {
  "kernelspec": {
   "display_name": "Python 3",
   "language": "python",
   "name": "python3"
  },
  "language_info": {
   "codemirror_mode": {
    "name": "ipython",
    "version": 3
   },
   "file_extension": ".py",
   "mimetype": "text/x-python",
   "name": "python",
   "nbconvert_exporter": "python",
   "pygments_lexer": "ipython3",
   "version": "3.8.8"
  }
 },
 "nbformat": 4,
 "nbformat_minor": 5
}
