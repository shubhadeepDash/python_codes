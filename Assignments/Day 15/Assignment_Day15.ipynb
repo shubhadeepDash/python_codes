{
 "cells": [
  {
   "cell_type": "code",
   "execution_count": 9,
   "id": "5d264a46",
   "metadata": {},
   "outputs": [
    {
     "name": "stdout",
     "output_type": "stream",
     "text": [
      "Enter the number of elements of the array: 5\n",
      "1\n",
      "2\n",
      "3\n",
      "5\n",
      "6\n",
      "Enter the number to be searched in the array: 52\n",
      "52 is not present in the list.\n"
     ]
    }
   ],
   "source": [
    "# program to perform sequential search (linear search)\n",
    "\n",
    "def linear_search(arr,x):\n",
    "    for i in range(len(arr)):\n",
    "        if (arr[i] == x):\n",
    "            return i\n",
    "    return -1\n",
    "\n",
    "n = int(input(\"Enter the number of elements of the array: \"))\n",
    "array = [int(input()) for i in range(n)]\n",
    "x = int(input(\"Enter the number to be searched in the array: \"))\n",
    "index = linear_search(array,x)\n",
    "\n",
    "if index != -1:\n",
    "    print(f\"{x} is present in the list at index {index}.\")\n",
    "else:\n",
    "    print(f\"{x} is not present in the list.\")"
   ]
  },
  {
   "cell_type": "code",
   "execution_count": 19,
   "id": "5afc1f62",
   "metadata": {},
   "outputs": [
    {
     "name": "stdout",
     "output_type": "stream",
     "text": [
      "Enter the number of elements in the array: 6\n",
      "3\n",
      "5\n",
      "2\n",
      "1\n",
      "6\n",
      "4\n",
      "The unsorted array is:  [3, 5, 2, 1, 6, 4]\n",
      "The sorted array is:  [3, 5, 1, 6, 2, 4]\n"
     ]
    }
   ],
   "source": [
    "# program to sort an unsorted array using wiggle sort\n",
    "# such that nums [0] <= nums [1] >= nums [2] <= nums [3]...\n",
    "\n",
    "def wiggle_sort(a):\n",
    "    for i in range(len(a)):\n",
    "        if (i % 2 == 1) == (a[i-1] > a[i]):\n",
    "            a[i-1],a[i] = a[i],a[i-1]\n",
    "                \n",
    "n = int(input(\"Enter the number of elements in the array: \"))\n",
    "array = [int(input()) for i in range(n)]\n",
    "print(\"The unsorted array is: \",array)\n",
    "wiggle_sort(array)\n",
    "print(\"The sorted array is: \",array)"
   ]
  },
  {
   "cell_type": "code",
   "execution_count": 2,
   "id": "788f7748",
   "metadata": {},
   "outputs": [
    {
     "name": "stdout",
     "output_type": "stream",
     "text": [
      "Enter the number of elements in the array: 8\n",
      "8\n",
      "6\n",
      "4\n",
      "20\n",
      "24\n",
      "2\n",
      "10\n",
      "12\n",
      "The entered array is:  [8, 6, 4, 20, 24, 2, 10, 12]\n",
      "The sorted array now is:  [2, 4, 6, 8, 10, 12, 20, 24]\n"
     ]
    }
   ],
   "source": [
    "# program to sort an array using insertion sort algorithm\n",
    "def insertion_sort(a):\n",
    "    for j in range(1,len(a)):\n",
    "        key = a[j]\n",
    "        i = j-1                                                             0 1 2 3\n",
    "        while(i>-1) and (a[i]>key):                                  # a = [1,2,3,4]   key = a[j] = 1\n",
    "            a[i+1] = a[i]                                            #          i j\n",
    "            i -= 1\n",
    "        a[i+1] = key\n",
    "\n",
    "n = int(input(\"Enter the number of elements in the array: \"))\n",
    "array = [int(input()) for i in range(n)]\n",
    "print(\"The entered array is: \",array)\n",
    "insertion_sort(array)\n",
    "print(\"The sorted array now is: \",array)"
   ]
  },
  {
   "cell_type": "code",
   "execution_count": 2,
   "id": "ae4aecd1",
   "metadata": {},
   "outputs": [
    {
     "name": "stdout",
     "output_type": "stream",
     "text": [
      "Enter vlaue of a: 5\n",
      "Enter value of b: 6\n",
      "Now a is 6\n",
      "Now b is 5\n"
     ]
    }
   ],
   "source": [
    "# program to swap two numbers without using third number\n",
    "\n",
    "a = int(input(\"Enter vlaue of a: \"))\n",
    "b = int(input(\"Enter value of b: \"))\n",
    "#swapping\n",
    "a,b = b,a\n",
    "print(\"Now a is\",a)\n",
    "print(\"Now b is\",b)"
   ]
  },
  {
   "cell_type": "code",
   "execution_count": 4,
   "id": "b0ddcdf0",
   "metadata": {},
   "outputs": [
    {
     "name": "stdout",
     "output_type": "stream",
     "text": [
      "Enter the value of a: 6\n",
      "Enter the value of b: 5\n",
      "Now a is 5 and b is 6\n"
     ]
    }
   ],
   "source": [
    "# program to swap two numbers using third number\n",
    "a = int(input(\"Enter the value of a: \"))\n",
    "b = int(input(\"Enter the value of b: \"))\n",
    "a = a + b\n",
    "b = a - b\n",
    "a = a - b\n",
    "print(f\"Now a is {a} and b is {b}\")"
   ]
  }
 ],
 "metadata": {
  "kernelspec": {
   "display_name": "Python 3",
   "language": "python",
   "name": "python3"
  },
  "language_info": {
   "codemirror_mode": {
    "name": "ipython",
    "version": 3
   },
   "file_extension": ".py",
   "mimetype": "text/x-python",
   "name": "python",
   "nbconvert_exporter": "python",
   "pygments_lexer": "ipython3",
   "version": "3.8.8"
  }
 },
 "nbformat": 4,
 "nbformat_minor": 5
}
