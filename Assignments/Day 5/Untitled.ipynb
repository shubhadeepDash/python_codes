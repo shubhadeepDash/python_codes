{
 "cells": [
  {
   "cell_type": "code",
   "execution_count": 3,
   "id": "737e6f66",
   "metadata": {},
   "outputs": [
    {
     "name": "stdout",
     "output_type": "stream",
     "text": [
      "Enter the string: fastrack\n",
      "Enter the sub-string that is to be found: track\n",
      "The track is present in the fastrack\n"
     ]
    }
   ],
   "source": [
    "#program to find if sub-string exists in a string without using 'in' operator\n",
    "\n",
    "string = input(\"Enter the string: \")\n",
    "sub_string = input(\"Enter the sub-string that is to be found: \")\n",
    "c = 0\n",
    "for i in string:\n",
    "    for j in sub_string:\n",
    "        if i == j:\n",
    "            c += 1\n",
    "if(c >= len(sub_string)):\n",
    "    print(\"The {} is present in the {}\".format(sub_string,string))\n",
    "else:\n",
    "    print(\"The {} is not present in the {}\".format(sub_string,string))"
   ]
  },
  {
   "cell_type": "code",
   "execution_count": 1,
   "id": "afa6cfb5",
   "metadata": {},
   "outputs": [
    {
     "name": "stdout",
     "output_type": "stream",
     "text": [
      "b'hey'\n"
     ]
    }
   ],
   "source": [
    "print(bytes('hey','utf = 8'))"
   ]
  },
  {
   "cell_type": "code",
   "execution_count": 1,
   "id": "2b3ea11c",
   "metadata": {},
   "outputs": [
    {
     "name": "stdout",
     "output_type": "stream",
     "text": [
      "True\n"
     ]
    }
   ],
   "source": [
    "print('a' == \"a\" == '''a''')"
   ]
  },
  {
   "cell_type": "code",
   "execution_count": null,
   "id": "a8a47099",
   "metadata": {},
   "outputs": [],
   "source": []
  }
 ],
 "metadata": {
  "kernelspec": {
   "display_name": "Python 3",
   "language": "python",
   "name": "python3"
  },
  "language_info": {
   "codemirror_mode": {
    "name": "ipython",
    "version": 3
   },
   "file_extension": ".py",
   "mimetype": "text/x-python",
   "name": "python",
   "nbconvert_exporter": "python",
   "pygments_lexer": "ipython3",
   "version": "3.8.8"
  }
 },
 "nbformat": 4,
 "nbformat_minor": 5
}
