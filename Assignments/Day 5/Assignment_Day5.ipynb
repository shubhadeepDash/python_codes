{
 "cells": [
  {
   "cell_type": "markdown",
   "id": "a77e755a",
   "metadata": {},
   "source": [
    "# Find if a number in a list"
   ]
  },
  {
   "cell_type": "code",
   "execution_count": 5,
   "id": "cfe333c4",
   "metadata": {},
   "outputs": [
    {
     "name": "stdout",
     "output_type": "stream",
     "text": [
      "Enter the number of elements in the list: 5\n",
      "Enter the element: 2\n",
      "Enter the element: 6\n",
      "Enter the element: 9\n",
      "Enter the element: 8\n",
      "Enter the element: 5\n",
      "The entered list is:  [2, 6, 9, 8, 5]\n",
      "Enter the number to find in the list: 1\n",
      "1 is not present in the list\n"
     ]
    }
   ],
   "source": [
    "# program to find if a number is present in a list\n",
    "\n",
    "lst = [ ]\n",
    "num = int(input(\"Enter the number of elements in the list: \"))\n",
    "for i in range(num):\n",
    "    e = int(input(\"Enter the element: \"))\n",
    "    lst.append(e)\n",
    "print(\"The entered list is: \",lst)\n",
    "\n",
    "find = int(input(\"Enter the number to find in the list: \"))\n",
    "if (find in lst):\n",
    "    print(\"{} is present in the list\".format(find))\n",
    "else:\n",
    "    print(\"{} is not present in the list\".format(find))"
   ]
  },
  {
   "cell_type": "markdown",
   "id": "a03b13ae",
   "metadata": {},
   "source": [
    "# Find sub-string in a string (without using 'in' operator)"
   ]
  },
  {
   "cell_type": "code",
   "execution_count": 7,
   "id": "cf429c68",
   "metadata": {
    "scrolled": true
   },
   "outputs": [
    {
     "name": "stdout",
     "output_type": "stream",
     "text": [
      "Enter the string: fastrack\n",
      "Enter the sub-string that is to be found: truck\n",
      "The truck is not present in the fastrack.\n"
     ]
    }
   ],
   "source": [
    "# program to find if sub-string exists in a string without using 'in' operator\n",
    "\n",
    "from re import search #re module stands for regular expressions\n",
    "\n",
    "string = input(\"Enter the string: \")\n",
    "sub_string = input(\"Enter the sub-string that is to be found: \")\n",
    "\n",
    "if search(sub_string, string):\n",
    "    print(\"The {} is present in the {}.\".format(sub_string,string))\n",
    "else:\n",
    "    print(\"The {} is not present in the {}.\".format(sub_string,string))"
   ]
  },
  {
   "cell_type": "code",
   "execution_count": 6,
   "id": "20d75bcb",
   "metadata": {},
   "outputs": [
    {
     "name": "stdout",
     "output_type": "stream",
     "text": [
      "Enter the string: fastrack \n",
      "Enter the sub-string that is to br found: truck\n",
      "The truck is not present in the fastrack \n"
     ]
    }
   ],
   "source": [
    "#program to find if sub_string exists in a string without using 'in' operator\n",
    "\n",
    "string = input(\"Enter the string: \")\n",
    "sub_string = input(\"Enter the sub-string that is to br found: \")\n",
    "if(string.count(sub_string) != 0):\n",
    "    print(\"The {} is present in the {}\".format(sub_string,string))\n",
    "else:\n",
    "    print(\"The {} is not present in the {}\".format(sub_string,string))"
   ]
  },
  {
   "cell_type": "markdown",
   "id": "381b6d3d",
   "metadata": {},
   "source": [
    "# Removing duplicate values from a list"
   ]
  },
  {
   "cell_type": "code",
   "execution_count": 8,
   "id": "b9254b9e",
   "metadata": {},
   "outputs": [
    {
     "name": "stdout",
     "output_type": "stream",
     "text": [
      "Enter the number of the elements in the list: 5\n",
      "Enter the element: 2\n",
      "Enter the element: 2\n",
      "Enter the element: 6\n",
      "Enter the element: 3\n",
      "Enter the element: 6\n",
      "The list that you entered is:  [2, 2, 6, 3, 6]\n",
      "The resulting list with no dusplicate values is:  [2, 6, 3]\n"
     ]
    }
   ],
   "source": [
    "# program to print the list with all the duplicate values removed\n",
    "\n",
    "lst = [ ]\n",
    "num = int(input(\"Enter the number of the elements in the list: \"))\n",
    "for i in range(num):\n",
    "    e = int(input(\"Enter the element: \"))\n",
    "    lst.append(e)\n",
    "print(\"The list that you entered is: \",lst)\n",
    "res = [ ]\n",
    "for i in lst:\n",
    "    if i not in res:\n",
    "        res.append(i)\n",
    "print(\"The resulting list with no dusplicate values is: \",res)"
   ]
  },
  {
   "cell_type": "markdown",
   "id": "7cbf55f7",
   "metadata": {},
   "source": [
    "# n th largest number in a list"
   ]
  },
  {
   "cell_type": "code",
   "execution_count": 24,
   "id": "993bb4a0",
   "metadata": {},
   "outputs": [
    {
     "name": "stdout",
     "output_type": "stream",
     "text": [
      "Enter the total number of elements in the list: 5\n",
      "Enter the element: 5\n",
      "Enter the element: 2\n",
      "Enter the element: 1\n",
      "Enter the element: 7\n",
      "Enter the element: 4\n",
      "The entered list is:  [5, 2, 1, 7, 4]\n",
      "To find the nth largest number enter the value of n: 3\n",
      "The 3th/st/nd/rd largest number in the list is 4\n"
     ]
    }
   ],
   "source": [
    "# program to find the nth largest number in a list that has been entered by the user\n",
    "lst = [ ]\n",
    "num = int(input(\"Enter the total number of elements in the list: \"))\n",
    "for i in range(num):\n",
    "    e = int(input(\"Enter the element: \"))\n",
    "    lst.append(e)\n",
    "print(\"The entered list is: \", lst)\n",
    "n = int(input(\"To find the nth largest number enter the value of n: \"))\n",
    "lst.sort()\n",
    "lst.reverse()\n",
    "if (n <= num):\n",
    "    z = lst[n-1]\n",
    "    print(\"The {}th/st/nd/rd largest number in the list is {}\".format(n,z))\n",
    "else:\n",
    "    print(\"Enter the n value within the range of the list.\")\n"
   ]
  },
  {
   "cell_type": "code",
   "execution_count": null,
   "id": "8c999bc7",
   "metadata": {},
   "outputs": [],
   "source": []
  }
 ],
 "metadata": {
  "kernelspec": {
   "display_name": "Python 3",
   "language": "python",
   "name": "python3"
  },
  "language_info": {
   "codemirror_mode": {
    "name": "ipython",
    "version": 3
   },
   "file_extension": ".py",
   "mimetype": "text/x-python",
   "name": "python",
   "nbconvert_exporter": "python",
   "pygments_lexer": "ipython3",
   "version": "3.8.8"
  }
 },
 "nbformat": 4,
 "nbformat_minor": 5
}
