{
 "cells": [
  {
   "cell_type": "code",
   "execution_count": 9,
   "id": "ca5ade62",
   "metadata": {},
   "outputs": [
    {
     "name": "stdout",
     "output_type": "stream",
     "text": [
      "Enter the value of the side of square in units 5\n",
      "Area of the square is 25 square units\n",
      "\n",
      "\n",
      "Enter the value of the side of the square in units 4\n",
      "Area of the square is 16 square units\n"
     ]
    }
   ],
   "source": [
    "#program to find area of square\n",
    "\n",
    "#using basic python\n",
    "side = int(input(\"Enter the value of the side of square in units \"))\n",
    "area = side * side\n",
    "print(\"Area of the square is\",area,\"square units\")\n",
    "\n",
    "#using math module\n",
    "print(\"\\n\")\n",
    "from math import pow\n",
    "a = int(input(\"Enter the value of the side of the square in units \"))\n",
    "area = pow(a,2)\n",
    "print(\"Area of the square is\",int(area),\"square units\")"
   ]
  },
  {
   "cell_type": "code",
   "execution_count": 10,
   "id": "17a6b7cb",
   "metadata": {},
   "outputs": [
    {
     "name": "stdout",
     "output_type": "stream",
     "text": [
      "Enter the value of first number: 45\n",
      "Enter the value of second number: 9\n",
      "The GCD of both the numbers is 9\n"
     ]
    }
   ],
   "source": [
    "#program to find GCD of two numbers\n",
    "a = int(input(\"Enter the value of first number: \"))\n",
    "b = int(input(\"Enter the value of second number: \"))\n",
    "while(a is not b):\n",
    "    if(a > b):\n",
    "        a = a-b\n",
    "    else:\n",
    "        b = b-a\n",
    "gcd = a\n",
    "print(\"The GCD of both the numbers is\",gcd)"
   ]
  },
  {
   "cell_type": "code",
   "execution_count": 11,
   "id": "15a3546b",
   "metadata": {},
   "outputs": [
    {
     "name": "stdout",
     "output_type": "stream",
     "text": [
      "Enter the diameter of the circle in units: 10\n",
      "The circumference of the circle is 31.42 units\n"
     ]
    }
   ],
   "source": [
    "#program to find the circumference of a circle\n",
    "from math import pi\n",
    "dia = int(input(\"Enter the diameter of the circle in units: \"))\n",
    "circum = pi * dia\n",
    "print(\"The circumference of the circle is %.2f\"%circum,\"units\")"
   ]
  },
  {
   "cell_type": "code",
   "execution_count": 14,
   "id": "1d44bf45",
   "metadata": {},
   "outputs": [
    {
     "name": "stdout",
     "output_type": "stream",
     "text": [
      "Enter the number on the face(form 1 to 6): 0\n",
      "The number does'nt exist on dice, enter from 1 to 6\n"
     ]
    }
   ],
   "source": [
    "#program to print the opposite face number of a die\n",
    "face = int(input(\"Enter the number on the face(form 1 to 6): \"))\n",
    "if 0<face<7:\n",
    "    print(\"Number on face is {} and number on the opposite face is {}\".format(face,7-face))\n",
    "else:\n",
    "    print(\"The number does'nt exist on dice, enter from 1 to 6\")"
   ]
  },
  {
   "cell_type": "code",
   "execution_count": 15,
   "id": "35e61c70",
   "metadata": {},
   "outputs": [
    {
     "name": "stdout",
     "output_type": "stream",
     "text": [
      "Enter the co-ordinates\n",
      "Enter the value of x1: 3\n",
      "Enter the value of y1: 2\n",
      "Enter the value of x2: 7\n",
      "Enter the value of y2: 8\n",
      "The distance between points (3,2) and (7,8) is:7.21 \n"
     ]
    }
   ],
   "source": [
    "#program to find the distance between two points using math library\n",
    "from math import sqrt\n",
    "from math import pow\n",
    "print(\"Enter the co-ordinates\")\n",
    "x1 = int(input(\"Enter the value of x1: \"))\n",
    "y1 = int(input(\"Enter the value of y1: \"))\n",
    "x2 = int(input(\"Enter the value of x2: \"))\n",
    "y2 = int(input(\"Enter the value of y2: \"))\n",
    "\n",
    "distance= sqrt(pow(x2-x1,2) + pow(y2-y1,2))\n",
    "print(\"The distance between points ({},{}) and ({},{}) is:%.2f \".format(x1,y1,x2,y2)%distance)"
   ]
  }
 ],
 "metadata": {
  "kernelspec": {
   "display_name": "Python 3 (ipykernel)",
   "language": "python",
   "name": "python3"
  },
  "language_info": {
   "codemirror_mode": {
    "name": "ipython",
    "version": 3
   },
   "file_extension": ".py",
   "mimetype": "text/x-python",
   "name": "python",
   "nbconvert_exporter": "python",
   "pygments_lexer": "ipython3",
   "version": "3.9.12"
  }
 },
 "nbformat": 4,
 "nbformat_minor": 5
}
