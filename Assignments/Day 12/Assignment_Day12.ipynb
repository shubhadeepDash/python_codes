{
 "cells": [
  {
   "cell_type": "code",
   "execution_count": 1,
   "id": "419bf5c1",
   "metadata": {},
   "outputs": [
    {
     "name": "stdout",
     "output_type": "stream",
     "text": [
      "Enter the cordinates and radius for the first circle: \n",
      "Enter the x cordinate: 2\n",
      "Enter the y cordinate: 3\n",
      "Enter the radius: 12\n",
      "Enter the cordinates and radius for the second circle: \n",
      "Enter the x cordinate: 15\n",
      "Enter the y cordinate: 28\n",
      "Enter the radius: 10\n",
      "The circles do not touch each other.\n"
     ]
    }
   ],
   "source": [
    "# program to find if the circles 'intersect', 'touch', or 'not intersect'\n",
    "from math import sqrt as s\n",
    "def circle(x1,y1,x2,y2,r1,r2):\n",
    "    distance = s(pow(x1-x2,2) + pow(y1-y2,2))\n",
    "    sum_radius = r1 + r2\n",
    "    if(distance == sum_radius):\n",
    "        return 1\n",
    "    elif(distance > sum_radius):\n",
    "        return -1\n",
    "    else:\n",
    "        return 0\n",
    "\n",
    "print(\"Enter the cordinates and radius for the first circle: \")\n",
    "x1 = int(input(\"Enter the x cordinate: \"))\n",
    "y1 = int(input(\"Enter the y cordinate: \"))\n",
    "r1 = int(input(\"Enter the radius: \"))\n",
    "\n",
    "print(\"Enter the cordinates and radius for the second circle: \")\n",
    "x2 = int(input(\"Enter the x cordinate: \"))\n",
    "y2 = int(input(\"Enter the y cordinate: \"))\n",
    "r2 = int(input(\"Enter the radius: \"))\n",
    "\n",
    "t = circle(x1,y1,x2,y2,r1,r2)\n",
    "\n",
    "if(t == 1):\n",
    "    print(\"Both the circles touch each other.\")\n",
    "elif(t < 0):\n",
    "    print(\"The circles do not touch each other.\")\n",
    "else: \n",
    "    print(\"The circles intersect each other.\")"
   ]
  },
  {
   "cell_type": "code",
   "execution_count": 5,
   "id": "34eee359",
   "metadata": {},
   "outputs": [
    {
     "name": "stdout",
     "output_type": "stream",
     "text": [
      "Enter the parantheses sequence: {[{()}]\n",
      "{[{()}] - Unbalanced\n"
     ]
    }
   ],
   "source": [
    "# program to check parentheses balance\n",
    "\n",
    "open_list = ['[','{','(']\n",
    "close_list = [']','}',')']\n",
    "\n",
    "def check_balance(string):\n",
    "    stack = []           \n",
    "    for i in string:\n",
    "        if i in open_list:\n",
    "            stack.append(i)\n",
    "        elif i in close_list:\n",
    "            pos = close_list.index(i)\n",
    "            if(len(stack) > 0 and (open_list[pos] == stack[len(stack)-1])):\n",
    "                stack.pop()\n",
    "            else:\n",
    "                return \"Unbalanced\"\n",
    "    if(len(stack) == 0):\n",
    "        return \"Balanced\"\n",
    "    else:\n",
    "        return \"Unbalanced\"\n",
    "    \n",
    "string = input(\"Enter the parantheses sequence: \")\n",
    "print(f\"{string} - {check_balance(string)}\")"
   ]
  },
  {
   "cell_type": "code",
   "execution_count": 45,
   "id": "76b772b1",
   "metadata": {},
   "outputs": [
    {
     "name": "stdout",
     "output_type": "stream",
     "text": [
      "The resultant matrix is:  [[114, 160, 60, 27], [74, 97, 73, 14], [119, 157, 112, 23]]\n"
     ]
    }
   ],
   "source": [
    "# program to perform matrix multiplication \n",
    "# Anm * Bmp = Cnp\n",
    "\n",
    "A = [[12,7,3],[4,5,6],[7,8,9]]\n",
    "B = [[5,8,1,2],[6,7,3,0],[4,5,9,1]]\n",
    "result = [[0,0,0,0],[0,0,0,0],[0,0,0,0]]\n",
    "#iterating through rows of A\n",
    "for i in range(len(A)):\n",
    "    #iterating through columns of B\n",
    "    for j in range(len(B[0])):\n",
    "        #iterating through rows of B\n",
    "        for k in range(len(B)):\n",
    "            result[i][j] += A[i][k] * B[k][j]\n",
    "            \n",
    "print(\"The resultant matrix is: \",result)"
   ]
  },
  {
   "cell_type": "code",
   "execution_count": 1,
   "id": "8f2e2ff8",
   "metadata": {},
   "outputs": [
    {
     "name": "stdout",
     "output_type": "stream",
     "text": [
      "Enter the values of the 2x2 matrix\n",
      "1\n",
      "2\n",
      "3\n",
      "4\n",
      "[[1, 2], [3, 4]]\n",
      "The determinant of the matrix is:  -2\n"
     ]
    }
   ],
   "source": [
    "# take a 2x2 matrix as input and calculate the determinant\n",
    "# [a  b]\n",
    "# [c  d]\n",
    "# d = a*d - b*c\n",
    "\n",
    "print(\"Enter the values of the 2x2 matrix\")\n",
    "mat = [[int(input())for i in range(2)]for j in range(2)]\n",
    "print(mat)\n",
    "\n",
    "determinant = mat[0][0] * mat [1][1] - mat[0][1] * mat[1][0]\n",
    "print(\"The determinant of the matrix is: \",determinant)"
   ]
  },
  {
   "cell_type": "code",
   "execution_count": 4,
   "id": "d3d7cc4a",
   "metadata": {},
   "outputs": [
    {
     "name": "stdout",
     "output_type": "stream",
     "text": [
      "Enter a string: shubh##$%^123123DEEPDASH\n",
      "String after removal of duplicates if any:   shub#$%^123DEPASH\n",
      "String after removal of special characters if any:   shubh123123DEEPDASH\n",
      "String after changing the case of the characters:   SHUBH##$%^123123deepdash\n"
     ]
    }
   ],
   "source": [
    "# program to perform the following without using string functions\n",
    "# i. remove if there any duplicates\n",
    "# ii. remove if there any special characters\n",
    "# iii. change the case of each character\n",
    "\n",
    "def rem_dup(string):\n",
    "    duplicate = ' '\n",
    "    for i in string:\n",
    "        if i not in duplicate:\n",
    "            duplicate += i\n",
    "    return duplicate\n",
    "\n",
    "def rem_spl(string):\n",
    "    spl =' '\n",
    "    alp = 'abcdefghijklmnopqrstuvwxyzABCDEFGHIJKLMNOPQRSTUVWXYZ0123456789 '\n",
    "    for i in string:\n",
    "         if i in alp:\n",
    "            spl += i\n",
    "    return spl\n",
    "\n",
    "def case(string):\n",
    "    ch =' '\n",
    "    for i in string:\n",
    "        if 65<=ord(i)<=90:\n",
    "            ch += chr(ord(i)+32)\n",
    "        elif 97<=ord(i)<=122:\n",
    "            ch += chr(ord(i)-32)\n",
    "        else:\n",
    "            ch += i\n",
    "    return ch\n",
    "\n",
    "string = input(\"Enter a string: \")\n",
    "print(\"String after removal of duplicates if any: \",rem_dup(string))\n",
    "print(\"String after removal of special characters if any: \", rem_spl(string))\n",
    "print(\"String after changing the case of the characters: \",case(string))"
   ]
  }
 ],
 "metadata": {
  "kernelspec": {
   "display_name": "Python 3",
   "language": "python",
   "name": "python3"
  },
  "language_info": {
   "codemirror_mode": {
    "name": "ipython",
    "version": 3
   },
   "file_extension": ".py",
   "mimetype": "text/x-python",
   "name": "python",
   "nbconvert_exporter": "python",
   "pygments_lexer": "ipython3",
   "version": "3.8.8"
  }
 },
 "nbformat": 4,
 "nbformat_minor": 5
}
